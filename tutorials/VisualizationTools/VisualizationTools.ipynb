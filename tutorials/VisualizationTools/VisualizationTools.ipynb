{
 "cells": [
  {
   "cell_type": "markdown",
   "metadata": {},
   "source": [
    "# QDK Visualization Tools\n",
    "\n",
    "This tutorial introduces you to a variety of tools offered by the Microsoft Quantum Development Kit to visualize various elements of Q# programs. \n",
    "These tools are extremely helpful both for learners seeking to confirm their understanding of the behavior of the program and for experienced quantum software developers debugging their programs. \n",
    "\n",
    "This tutorial covers the following topics:\n",
    "* Displaying the quantum state of the program: DumpMachine and DumpRegister.\n",
    "* Displaying the matrix implemented by the quantum operation: DumpOperation.\n",
    "* Drawing the circuit of an execution path of the program: %trace.\n",
    "* Running through the quantum program step-by-step: %debug."
   ]
  },
  {
   "cell_type": "markdown",
   "metadata": {},
   "source": [
    "# Display the quantum state of a single-qubit program\n",
    "\n",
    "Let's start with a simple scenario: a program that acts on a single qubit. \n",
    "The state of the quantum system used by this program can be represented as a complex vector of length 2, or, using Dirac notation,\n",
    "\n",
    "$$\\begin{bmatrix} \\alpha \\\\ \\beta \\end{bmatrix} = \\alpha|0\\rangle + \\beta|1\\rangle$$\n",
    "\n",
    "> If you need a refresher on single-qubit quantum systems and their states, please see the tutorial on [the concept of a qubit](../Qubit/Qubit.ipynb).\n",
    "\n",
    "If this program runs on a physical quantum system, there is no way to get the information about the values of $\\alpha$ and $\\beta$ at a certain point of the program execution from a single observation. \n",
    "You would need to run the program repeatedly up to this point, perform a measurement on the system, and aggregate the results of multiple measurements to estimate $\\alpha$ and $\\beta$.\n",
    "\n",
    "However, at the early stages of quantum program development the program typically runs on a simulator - a classical program which simulates the behavior of a small quantum system while having complete information about its internal state. \n",
    "You can take advantage of this to do some non-physical things, such as peeking at the internals of the quantum system to observe its exact state without disturbing it!\n",
    "\n",
    "[DumpMachine](https://docs.microsoft.com/qsharp/api/qsharp/microsoft.quantum.diagnostics.dumpmachine) function from [Microsoft.Quantum.Diagnostics namespace](https://docs.microsoft.com/qsharp/api/qsharp/microsoft.quantum.diagnostics) allows you to do exactly that. This function is available in standalone Q# applications as well.\n",
    "\n",
    "### <span style=\"color:blue\">Demo: DumpMachine for single-qubit systems</span>\n",
    "\n",
    "The following demo shows how to use `DumpMachine` to output the state of the system at any point in the program without affecting the state.\n",
    "\n",
    "> Note that the Q# code doesn't have access to the output of `DumpMachine`, so you cannot write any non-physical code in Q#!\n",
    "\n",
    "The output of `DumpMachine` is accurate up to a global phase: sometimes you'll see that all amplitudes are multiplied by some complex number compared to the state you're expecting."
   ]
  },
  {
   "cell_type": "code",
   "execution_count": null,
   "metadata": {
    "ExecuteTime": {
     "start_time": "2021-11-19T08:16:19.322Z"
    }
   },
   "outputs": [
    {
     "data": {
      "application/x-qsharp-data": "[\"SingleQubitDumpMachineDemo\"]",
      "text/html": [
       "<ul><li>SingleQubitDumpMachineDemo</li></ul>"
      ],
      "text/plain": [
       "SingleQubitDumpMachineDemo"
      ]
     },
     "execution_count": 27,
     "metadata": {},
     "output_type": "execute_result"
    }
   ],
   "source": [
    "// Run this cell using Ctrl+Enter (⌘+Enter on Mac)\n",
    "// Then run the next cell to see the output\n",
    "\n",
    "open Microsoft.Quantum.Diagnostics;\n",
    "\n",
    "operation SingleQubitDumpMachineDemo () : Unit {\n",
    "    // This line allocates a qubit in state |0⟩.\n",
    "    use q = Qubit();\n",
    "    Message(\"State |0⟩:\");\n",
    "\n",
    "    // This line prints out the state of the quantum system.\n",
    "    // Since only one qubit is allocated, only its state is printed.\n",
    "    DumpMachine();\n",
    "\n",
    "    // This line changes the qubit to state |+⟩ = (1/sqrt(2))(|0⟩ + |1⟩).\n",
    "    // 1/sqrt(2) is approximately 0.707107.\n",
    "    H(q);\n",
    "\n",
    "    Message(\"State |+⟩:\");\n",
    "    let d = DumpMachine();\n",
    "    \n",
    "    Message($\"Qubit :{q}\");\n",
    "\n",
    "    // This will put the qubit into an uneven superposition,\n",
    "    // where the amplitudes of |0⟩ and |1⟩ have different absolute values and relative phases.\n",
    "    Rx(1.0, q);\n",
    "    Ry(2.0, q);\n",
    "    Rz(3.0, q);\n",
    "\n",
    "    Message(\"Uneven superposition state:\");\n",
    "    DumpMachine();\n",
    "\n",
    "    // This line returns the qubit to state |0⟩ before releasing it.\n",
    "    Reset(q);\n",
    "}"
   ]
  },
  {
   "cell_type": "code",
   "execution_count": null,
   "metadata": {
    "ExecuteTime": {
     "start_time": "2021-11-19T08:16:20.126Z"
    }
   },
   "outputs": [
    {
     "name": "stdout",
     "output_type": "stream",
     "text": [
      "State |0⟩:\n"
     ]
    },
    {
     "data": {
      "application/x-qsharp-data": "{\"diagnostic_kind\":\"state-vector\",\"div_id\":\"dump-machine-div-b8b72107-abd5-4bcf-872f-cc659c23aa59\",\"qubit_ids\":[0],\"n_qubits\":1,\"amplitudes\":[{\"Real\":1.0,\"Imaginary\":0.0,\"Magnitude\":1.0,\"Phase\":0.0},{\"Real\":0.0,\"Imaginary\":0.0,\"Magnitude\":0.0,\"Phase\":0.0}]}",
      "text/html": [
       "\r\n",
       "                    <table style=\"table-layout: fixed; width: 100%\">\r\n",
       "                        <thead>\r\n",
       "                            \r\n",
       "                        <tr>\r\n",
       "                            <th>Qubit IDs</th>\r\n",
       "                            <td span=\"3\">0</td>\r\n",
       "                        </tr>\r\n",
       "                    \r\n",
       "                            <tr>\r\n",
       "                                <th style=\"width: 20ch)\">Basis state (little endian)</th>\r\n",
       "                                <th style=\"width: 20ch\">Amplitude</th><th style=\"width: calc(100% - 26ch - 20ch)\">Meas. Pr.</th><th style=\"width: 6ch\">Phase</th>\r\n",
       "                            </tr>\r\n",
       "                        </thead>\r\n",
       "                        <tbody>\r\n",
       "                        \r\n",
       "                            <tr>\r\n",
       "                                <td>$\\left|0\\right\\rangle$</td>\r\n",
       "                                <td>$1.0000 + 0.0000 i$</td>\r\n",
       "                                \r\n",
       "                                <td>\r\n",
       "                                    <progress\r\n",
       "                                        max=\"100\"\r\n",
       "                                        value=\"100\"\r\n",
       "                                        style=\"width: 100%;\"\r\n",
       "                                    > \r\n",
       "                                    <td>\r\n",
       "                                    <p id=\"round-6c0e81f4-5a39-4fc2-be28-68d5eb67a283\"> \r\n",
       "                                    <script>\r\n",
       "                                    var num = 100;\r\n",
       "                                    num = num.toFixed(4);\r\n",
       "                                    var num_string = num + \"%\";\r\n",
       "                                     document.getElementById(\"round-6c0e81f4-5a39-4fc2-be28-68d5eb67a283\").innerHTML = num_string;\r\n",
       "                                    </script> </p>\r\n",
       "                                    </td>\r\n",
       "                                </td>\r\n",
       "                            \r\n",
       "                                \r\n",
       "                                <td style=\"transform: rotate(0deg);\r\n",
       "                   text-align: center;\">\r\n",
       "                                 ↑\r\n",
       "                                </td>\r\n",
       "                            \r\n",
       "                            </tr>\r\n",
       "                        \n",
       "\r\n",
       "                            <tr>\r\n",
       "                                <td>$\\left|1\\right\\rangle$</td>\r\n",
       "                                <td>$0.0000 + 0.0000 i$</td>\r\n",
       "                                \r\n",
       "                                <td>\r\n",
       "                                    <progress\r\n",
       "                                        max=\"100\"\r\n",
       "                                        value=\"0\"\r\n",
       "                                        style=\"width: 100%;\"\r\n",
       "                                    > \r\n",
       "                                    <td>\r\n",
       "                                    <p id=\"round-87561763-94f2-4e47-b18f-a79ae40b7ef0\"> \r\n",
       "                                    <script>\r\n",
       "                                    var num = 0;\r\n",
       "                                    num = num.toFixed(4);\r\n",
       "                                    var num_string = num + \"%\";\r\n",
       "                                     document.getElementById(\"round-87561763-94f2-4e47-b18f-a79ae40b7ef0\").innerHTML = num_string;\r\n",
       "                                    </script> </p>\r\n",
       "                                    </td>\r\n",
       "                                </td>\r\n",
       "                            \r\n",
       "                                \r\n",
       "                                <td style=\"transform: rotate(0deg);\r\n",
       "                   text-align: center;\">\r\n",
       "                                 ↑\r\n",
       "                                </td>\r\n",
       "                            \r\n",
       "                            </tr>\r\n",
       "                        \r\n",
       "                        </tbody>\r\n",
       "                    </table>"
      ],
      "text/plain": [
       "|0⟩\t1 + 0𝑖\n",
       "|1⟩\t0 + 0𝑖"
      ]
     },
     "metadata": {},
     "output_type": "display_data"
    },
    {
     "name": "stdout",
     "output_type": "stream",
     "text": [
      "State |+⟩:\n"
     ]
    },
    {
     "data": {
      "application/x-qsharp-data": "{\"diagnostic_kind\":\"state-vector\",\"div_id\":\"dump-machine-div-05199083-6de6-45f0-9060-bf0bb2b818cc\",\"qubit_ids\":[0],\"n_qubits\":1,\"amplitudes\":[{\"Real\":0.7071067811865476,\"Imaginary\":0.0,\"Magnitude\":0.7071067811865476,\"Phase\":0.0},{\"Real\":0.7071067811865476,\"Imaginary\":0.0,\"Magnitude\":0.7071067811865476,\"Phase\":0.0}]}",
      "text/html": [
       "\r\n",
       "                    <table style=\"table-layout: fixed; width: 100%\">\r\n",
       "                        <thead>\r\n",
       "                            \r\n",
       "                        <tr>\r\n",
       "                            <th>Qubit IDs</th>\r\n",
       "                            <td span=\"3\">0</td>\r\n",
       "                        </tr>\r\n",
       "                    \r\n",
       "                            <tr>\r\n",
       "                                <th style=\"width: 20ch)\">Basis state (little endian)</th>\r\n",
       "                                <th style=\"width: 20ch\">Amplitude</th><th style=\"width: calc(100% - 26ch - 20ch)\">Meas. Pr.</th><th style=\"width: 6ch\">Phase</th>\r\n",
       "                            </tr>\r\n",
       "                        </thead>\r\n",
       "                        <tbody>\r\n",
       "                        \r\n",
       "                            <tr>\r\n",
       "                                <td>$\\left|0\\right\\rangle$</td>\r\n",
       "                                <td>$0.7071 + 0.0000 i$</td>\r\n",
       "                                \r\n",
       "                                <td>\r\n",
       "                                    <progress\r\n",
       "                                        max=\"100\"\r\n",
       "                                        value=\"50.000000000000014\"\r\n",
       "                                        style=\"width: 100%;\"\r\n",
       "                                    > \r\n",
       "                                    <td>\r\n",
       "                                    <p id=\"round-32b2ac86-8775-4363-880e-cc70fdf366ce\"> \r\n",
       "                                    <script>\r\n",
       "                                    var num = 50.000000000000014;\r\n",
       "                                    num = num.toFixed(4);\r\n",
       "                                    var num_string = num + \"%\";\r\n",
       "                                     document.getElementById(\"round-32b2ac86-8775-4363-880e-cc70fdf366ce\").innerHTML = num_string;\r\n",
       "                                    </script> </p>\r\n",
       "                                    </td>\r\n",
       "                                </td>\r\n",
       "                            \r\n",
       "                                \r\n",
       "                                <td style=\"transform: rotate(0deg);\r\n",
       "                   text-align: center;\">\r\n",
       "                                 ↑\r\n",
       "                                </td>\r\n",
       "                            \r\n",
       "                            </tr>\r\n",
       "                        \n",
       "\r\n",
       "                            <tr>\r\n",
       "                                <td>$\\left|1\\right\\rangle$</td>\r\n",
       "                                <td>$0.7071 + 0.0000 i$</td>\r\n",
       "                                \r\n",
       "                                <td>\r\n",
       "                                    <progress\r\n",
       "                                        max=\"100\"\r\n",
       "                                        value=\"50.000000000000014\"\r\n",
       "                                        style=\"width: 100%;\"\r\n",
       "                                    > \r\n",
       "                                    <td>\r\n",
       "                                    <p id=\"round-9afe6b56-5cdb-402c-a657-434472ea946f\"> \r\n",
       "                                    <script>\r\n",
       "                                    var num = 50.000000000000014;\r\n",
       "                                    num = num.toFixed(4);\r\n",
       "                                    var num_string = num + \"%\";\r\n",
       "                                     document.getElementById(\"round-9afe6b56-5cdb-402c-a657-434472ea946f\").innerHTML = num_string;\r\n",
       "                                    </script> </p>\r\n",
       "                                    </td>\r\n",
       "                                </td>\r\n",
       "                            \r\n",
       "                                \r\n",
       "                                <td style=\"transform: rotate(0deg);\r\n",
       "                   text-align: center;\">\r\n",
       "                                 ↑\r\n",
       "                                </td>\r\n",
       "                            \r\n",
       "                            </tr>\r\n",
       "                        \r\n",
       "                        </tbody>\r\n",
       "                    </table>"
      ],
      "text/plain": [
       "|0⟩\t0.7071067811865476 + 0𝑖\n",
       "|1⟩\t0.7071067811865476 + 0𝑖"
      ]
     },
     "metadata": {},
     "output_type": "display_data"
    },
    {
     "name": "stdout",
     "output_type": "stream",
     "text": [
      "Qubit :q:0\n",
      "Uneven superposition state:\n"
     ]
    },
    {
     "data": {
      "application/x-qsharp-data": "{\"diagnostic_kind\":\"state-vector\",\"div_id\":\"dump-machine-div-47bf5eb3-add5-4681-988c-303db0d189e6\",\"qubit_ids\":[0],\"n_qubits\":1,\"amplitudes\":[{\"Real\":0.08862197078463413,\"Imaginary\":0.1936425389252233,\"Magnitude\":0.2129584151592962,\"Phase\":1.1415926535897933},{\"Real\":0.5279084538593257,\"Imaginary\":0.8221687039511401,\"Magnitude\":0.9770612638994758,\"Phase\":1.0}]}",
      "text/html": [
       "\r\n",
       "                    <table style=\"table-layout: fixed; width: 100%\">\r\n",
       "                        <thead>\r\n",
       "                            \r\n",
       "                        <tr>\r\n",
       "                            <th>Qubit IDs</th>\r\n",
       "                            <td span=\"3\">0</td>\r\n",
       "                        </tr>\r\n",
       "                    \r\n",
       "                            <tr>\r\n",
       "                                <th style=\"width: 20ch)\">Basis state (little endian)</th>\r\n",
       "                                <th style=\"width: 20ch\">Amplitude</th><th style=\"width: calc(100% - 26ch - 20ch)\">Meas. Pr.</th><th style=\"width: 6ch\">Phase</th>\r\n",
       "                            </tr>\r\n",
       "                        </thead>\r\n",
       "                        <tbody>\r\n",
       "                        \r\n",
       "                            <tr>\r\n",
       "                                <td>$\\left|0\\right\\rangle$</td>\r\n",
       "                                <td>$0.0886 + 0.1936 i$</td>\r\n",
       "                                \r\n",
       "                                <td>\r\n",
       "                                    <progress\r\n",
       "                                        max=\"100\"\r\n",
       "                                        value=\"4.535128658715916\"\r\n",
       "                                        style=\"width: 100%;\"\r\n",
       "                                    > \r\n",
       "                                    <td>\r\n",
       "                                    <p id=\"round-152dd752-44f8-47e9-b120-f4b2527b6b40\"> \r\n",
       "                                    <script>\r\n",
       "                                    var num = 4.535128658715916;\r\n",
       "                                    num = num.toFixed(4);\r\n",
       "                                    var num_string = num + \"%\";\r\n",
       "                                     document.getElementById(\"round-152dd752-44f8-47e9-b120-f4b2527b6b40\").innerHTML = num_string;\r\n",
       "                                    </script> </p>\r\n",
       "                                    </td>\r\n",
       "                                </td>\r\n",
       "                            \r\n",
       "                                \r\n",
       "                                <td style=\"transform: rotate(65.40844097383537deg);\r\n",
       "                   text-align: center;\">\r\n",
       "                                 ↑\r\n",
       "                                </td>\r\n",
       "                            \r\n",
       "                            </tr>\r\n",
       "                        \n",
       "\r\n",
       "                            <tr>\r\n",
       "                                <td>$\\left|1\\right\\rangle$</td>\r\n",
       "                                <td>$0.5279 + 0.8222 i$</td>\r\n",
       "                                \r\n",
       "                                <td>\r\n",
       "                                    <progress\r\n",
       "                                        max=\"100\"\r\n",
       "                                        value=\"95.46487134128411\"\r\n",
       "                                        style=\"width: 100%;\"\r\n",
       "                                    > \r\n",
       "                                    <td>\r\n",
       "                                    <p id=\"round-b201fa42-23c9-4f51-ac01-218d6468c0b4\"> \r\n",
       "                                    <script>\r\n",
       "                                    var num = 95.46487134128411;\r\n",
       "                                    num = num.toFixed(4);\r\n",
       "                                    var num_string = num + \"%\";\r\n",
       "                                     document.getElementById(\"round-b201fa42-23c9-4f51-ac01-218d6468c0b4\").innerHTML = num_string;\r\n",
       "                                    </script> </p>\r\n",
       "                                    </td>\r\n",
       "                                </td>\r\n",
       "                            \r\n",
       "                                \r\n",
       "                                <td style=\"transform: rotate(57.29577951308232deg);\r\n",
       "                   text-align: center;\">\r\n",
       "                                 ↑\r\n",
       "                                </td>\r\n",
       "                            \r\n",
       "                            </tr>\r\n",
       "                        \r\n",
       "                        </tbody>\r\n",
       "                    </table>"
      ],
      "text/plain": [
       "|0⟩\t0.08862197078463413 + 0.1936425389252233𝑖\n",
       "|1⟩\t0.5279084538593257 + 0.8221687039511401𝑖"
      ]
     },
     "metadata": {},
     "output_type": "display_data"
    },
    {
     "data": {
      "application/x-qsharp-data": "{\"@type\":\"tuple\"}",
      "text/plain": [
       "()"
      ]
     },
     "execution_count": 28,
     "metadata": {},
     "output_type": "execute_result"
    }
   ],
   "source": [
    "%simulate SingleQubitDumpMachineDemo"
   ]
  },
  {
   "cell_type": "markdown",
   "metadata": {},
   "source": [
    "### <span style=\"color:blue\">Exercise 1</span>: Learn the state of the qubit without measurements\n",
    "\n",
    "**Input:** A qubit in an unknown state $|\\psi\\rangle = \\alpha|0\\rangle + \\beta|1\\rangle$. The amplitudes $\\alpha$ and $\\beta$ will be real and non-negative.\n",
    "\n",
    "**Output:** A tuple of two numbers $(\\alpha', \\beta')$ - your estimates of the amplitudes $\\alpha$ and $\\beta$.\n",
    "The absolute errors $|\\alpha - \\alpha'|$ and $|\\beta - \\beta'|$ should be less than or equal to 0.001.\n",
    "\n",
    "The test will call your code exactly once, with the fixed state parameter that will not change if you run the cell several times."
   ]
  },
  {
   "cell_type": "code",
   "execution_count": null,
   "metadata": {
    "ExecuteTime": {
     "start_time": "2021-11-19T08:22:32.979Z"
    }
   },
   "outputs": [
    {
     "data": {
      "application/x-qsharp-data": "{\"diagnostic_kind\":\"state-vector\",\"div_id\":\"dump-machine-div-d2c4db8e-b40f-4498-8066-8c0202a5f9f9\",\"qubit_ids\":[0],\"n_qubits\":1,\"amplitudes\":[{\"Real\":0.9689124217106447,\"Imaginary\":0.0,\"Magnitude\":0.9689124217106447,\"Phase\":0.0},{\"Real\":0.24740395925452294,\"Imaginary\":0.0,\"Magnitude\":0.24740395925452294,\"Phase\":0.0}]}",
      "text/html": [
       "\r\n",
       "                    <table style=\"table-layout: fixed; width: 100%\">\r\n",
       "                        <thead>\r\n",
       "                            \r\n",
       "                        <tr>\r\n",
       "                            <th>Qubit IDs</th>\r\n",
       "                            <td span=\"3\">0</td>\r\n",
       "                        </tr>\r\n",
       "                    \r\n",
       "                            <tr>\r\n",
       "                                <th style=\"width: 20ch)\">Basis state (little endian)</th>\r\n",
       "                                <th style=\"width: 20ch\">Amplitude</th><th style=\"width: calc(100% - 26ch - 20ch)\">Meas. Pr.</th><th style=\"width: 6ch\">Phase</th>\r\n",
       "                            </tr>\r\n",
       "                        </thead>\r\n",
       "                        <tbody>\r\n",
       "                        \r\n",
       "                            <tr>\r\n",
       "                                <td>$\\left|0\\right\\rangle$</td>\r\n",
       "                                <td>$0.9689 + 0.0000 i$</td>\r\n",
       "                                \r\n",
       "                                <td>\r\n",
       "                                    <progress\r\n",
       "                                        max=\"100\"\r\n",
       "                                        value=\"93.87912809451862\"\r\n",
       "                                        style=\"width: 100%;\"\r\n",
       "                                    > \r\n",
       "                                    <td>\r\n",
       "                                    <p id=\"round-311b06ec-c9bc-4729-a8fe-560683711307\"> \r\n",
       "                                    <script>\r\n",
       "                                    var num = 93.87912809451862;\r\n",
       "                                    num = num.toFixed(4);\r\n",
       "                                    var num_string = num + \"%\";\r\n",
       "                                     document.getElementById(\"round-311b06ec-c9bc-4729-a8fe-560683711307\").innerHTML = num_string;\r\n",
       "                                    </script> </p>\r\n",
       "                                    </td>\r\n",
       "                                </td>\r\n",
       "                            \r\n",
       "                                \r\n",
       "                                <td style=\"transform: rotate(0deg);\r\n",
       "                   text-align: center;\">\r\n",
       "                                 ↑\r\n",
       "                                </td>\r\n",
       "                            \r\n",
       "                            </tr>\r\n",
       "                        \n",
       "\r\n",
       "                            <tr>\r\n",
       "                                <td>$\\left|1\\right\\rangle$</td>\r\n",
       "                                <td>$0.2474 + 0.0000 i$</td>\r\n",
       "                                \r\n",
       "                                <td>\r\n",
       "                                    <progress\r\n",
       "                                        max=\"100\"\r\n",
       "                                        value=\"6.120871905481365\"\r\n",
       "                                        style=\"width: 100%;\"\r\n",
       "                                    > \r\n",
       "                                    <td>\r\n",
       "                                    <p id=\"round-48409d18-727a-4f59-a51a-b6ebcd1b28f4\"> \r\n",
       "                                    <script>\r\n",
       "                                    var num = 6.120871905481365;\r\n",
       "                                    num = num.toFixed(4);\r\n",
       "                                    var num_string = num + \"%\";\r\n",
       "                                     document.getElementById(\"round-48409d18-727a-4f59-a51a-b6ebcd1b28f4\").innerHTML = num_string;\r\n",
       "                                    </script> </p>\r\n",
       "                                    </td>\r\n",
       "                                </td>\r\n",
       "                            \r\n",
       "                                \r\n",
       "                                <td style=\"transform: rotate(0deg);\r\n",
       "                   text-align: center;\">\r\n",
       "                                 ↑\r\n",
       "                                </td>\r\n",
       "                            \r\n",
       "                            </tr>\r\n",
       "                        \r\n",
       "                        </tbody>\r\n",
       "                    </table>"
      ],
      "text/plain": [
       "|0⟩\t0.9689124217106447 + 0𝑖\n",
       "|1⟩\t0.24740395925452294 + 0𝑖"
      ]
     },
     "metadata": {},
     "output_type": "display_data"
    },
    {
     "data": {
      "application/x-qsharp-data": "\"Success!\"",
      "text/plain": [
       "Success!"
      ]
     },
     "execution_count": 43,
     "metadata": {},
     "output_type": "execute_result"
    }
   ],
   "source": [
    "%kata T1_LearnSingleQubitState\n",
    "\n",
    "operation LearnSingleQubitState (q : Qubit) : (Double, Double) {\n",
    "    // first analyse and then run\n",
    "    DumpMachine();\n",
    "    \n",
    "    return (0.9689,0.2474);\n",
    "}"
   ]
  },
  {
   "cell_type": "markdown",
   "metadata": {},
   "source": [
    "# Display the quantum state of a multi-qubit program\n",
    "\n",
    "Now let's take a look at the general case: a program that acts on $N$ qubits. \n",
    "The state of the quantum system used by this program can be represented as a complex vector of length $2^N$, or, using Dirac notation,\n",
    "\n",
    "$$\\begin{bmatrix} x_0 \\\\ x_1 \\\\ \\vdots \\\\ x_{2^N-1}\\end{bmatrix} = \\sum_{k = 0}^{2^N-1} x_k |k\\rangle$$\n",
    "\n",
    "Same as in the single-qubit case, `DumpMachine` allows you to see the amplitudes $x_k$ for all basis states $|k\\rangle$ directly.\n",
    "\n",
    "> Note the use of an integer in the ket notation instead of a bit string with one bit per qubit. \n",
    "By default, `DumpMachine` uses little-endian to convert bit strings to integers in the ket notation.\n",
    "For more details on endiannes, see [the multi-qubit systems tutorial](../MultiQubitSystems/MultiQubitSystems.ipynb#Endianness).\n",
    "\n",
    "### <span style=\"color:blue\">Demo: DumpMachine for multi-qubit systems</span>"
   ]
  },
  {
   "cell_type": "code",
   "execution_count": null,
   "metadata": {
    "ExecuteTime": {
     "start_time": "2021-11-19T08:23:05.841Z"
    }
   },
   "outputs": [
    {
     "data": {
      "application/x-qsharp-data": "[\"MultiQubitDumpMachineDemo\"]",
      "text/html": [
       "<ul><li>MultiQubitDumpMachineDemo</li></ul>"
      ],
      "text/plain": [
       "MultiQubitDumpMachineDemo"
      ]
     },
     "execution_count": 44,
     "metadata": {},
     "output_type": "execute_result"
    }
   ],
   "source": [
    "open Microsoft.Quantum.Diagnostics;\n",
    "\n",
    "operation MultiQubitDumpMachineDemo () : Unit {\n",
    "    // This line allocates two qubits in state |00⟩.\n",
    "    use qs = Qubit[2];\n",
    "    Message(\"State |00⟩:\");\n",
    "\n",
    "    // This line prints out the state of the quantum system.\n",
    "    DumpMachine();\n",
    "\n",
    "    // X gate changes the second qubit into state |1⟩.\n",
    "    // The entire system is now in state |01⟩, or, in little-endian notation, |2⟩.\n",
    "    X(qs[1]);\n",
    "    Message(\"State |01⟩:\");\n",
    "    DumpMachine();\n",
    "\n",
    "    CNOT(qs[1], qs[0]);\n",
    "    Rx(1.0, qs[0]);\n",
    "    Ry(2.0, qs[1]);\n",
    "    Rz(3.0, qs[1]);\n",
    "\n",
    "    Message(\"Uneven superposition state:\");\n",
    "    DumpMachine();\n",
    "\n",
    "    // This line returns the qubits to state |0⟩ before releasing them.\n",
    "    ResetAll(qs);\n",
    "}"
   ]
  },
  {
   "cell_type": "code",
   "execution_count": null,
   "metadata": {
    "ExecuteTime": {
     "start_time": "2021-11-19T08:23:08.639Z"
    },
    "scrolled": true
   },
   "outputs": [],
   "source": [
    "%simulate MultiQubitDumpMachineDemo"
   ]
  },
  {
   "cell_type": "markdown",
   "metadata": {},
   "source": [
    "### <span style=\"color:blue\">Exercise 2</span>: Learn the amplitude of a basis state without measurements\n",
    "\n",
    "**Input:** 2 qubits in an unknown state $|\\psi\\rangle = \\sum_{k = 0}^{3} x_k |k\\rangle$. The amplitudes $x_k$ will be real and non-negative.\n",
    "\n",
    "**Output:** A tuple of two numbers $(x_1', x_2')$ - your estimates of the amplitudes of the state $|1\\rangle$ and $|2\\rangle$, respectively.\n",
    "The absolute errors $|x_1 - x_1'|$ and $|x_2 - x_2'|$ should be less than or equal to 0.001.\n",
    "\n",
    "The test will call your code exactly once, with the fixed state parameter that will not change if you run the cell several times."
   ]
  },
  {
   "cell_type": "code",
   "execution_count": null,
   "metadata": {
    "ExecuteTime": {
     "start_time": "2021-11-19T08:23:48.305Z"
    }
   },
   "outputs": [
    {
     "data": {
      "application/x-qsharp-data": "{\"diagnostic_kind\":\"state-vector\",\"div_id\":\"dump-machine-div-a5c56087-b26e-4c43-a303-688749cde9cc\",\"qubit_ids\":[0,1],\"n_qubits\":2,\"amplitudes\":[{\"Real\":0.6205445805637456,\"Imaginary\":0.0,\"Magnitude\":0.6205445805637456,\"Phase\":0.0},{\"Real\":0.3820514243700898,\"Imaginary\":0.0,\"Magnitude\":0.3820514243700898,\"Phase\":0.0},{\"Real\":0.33900504942104487,\"Imaginary\":0.0,\"Magnitude\":0.33900504942104487,\"Phase\":0.0},{\"Real\":0.595009839529386,\"Imaginary\":0.0,\"Magnitude\":0.595009839529386,\"Phase\":0.0}]}",
      "text/html": [
       "\r\n",
       "                    <table style=\"table-layout: fixed; width: 100%\">\r\n",
       "                        <thead>\r\n",
       "                            \r\n",
       "                        <tr>\r\n",
       "                            <th>Qubit IDs</th>\r\n",
       "                            <td span=\"3\">0, 1</td>\r\n",
       "                        </tr>\r\n",
       "                    \r\n",
       "                            <tr>\r\n",
       "                                <th style=\"width: 20ch)\">Basis state (little endian)</th>\r\n",
       "                                <th style=\"width: 20ch\">Amplitude</th><th style=\"width: calc(100% - 26ch - 20ch)\">Meas. Pr.</th><th style=\"width: 6ch\">Phase</th>\r\n",
       "                            </tr>\r\n",
       "                        </thead>\r\n",
       "                        <tbody>\r\n",
       "                        \r\n",
       "                            <tr>\r\n",
       "                                <td>$\\left|0\\right\\rangle$</td>\r\n",
       "                                <td>$0.6205 + 0.0000 i$</td>\r\n",
       "                                \r\n",
       "                                <td>\r\n",
       "                                    <progress\r\n",
       "                                        max=\"100\"\r\n",
       "                                        value=\"38.507557646703496\"\r\n",
       "                                        style=\"width: 100%;\"\r\n",
       "                                    > \r\n",
       "                                    <td>\r\n",
       "                                    <p id=\"round-f65aa9cb-4a72-4542-84f2-3113a07eae06\"> \r\n",
       "                                    <script>\r\n",
       "                                    var num = 38.507557646703496;\r\n",
       "                                    num = num.toFixed(4);\r\n",
       "                                    var num_string = num + \"%\";\r\n",
       "                                     document.getElementById(\"round-f65aa9cb-4a72-4542-84f2-3113a07eae06\").innerHTML = num_string;\r\n",
       "                                    </script> </p>\r\n",
       "                                    </td>\r\n",
       "                                </td>\r\n",
       "                            \r\n",
       "                                \r\n",
       "                                <td style=\"transform: rotate(0deg);\r\n",
       "                   text-align: center;\">\r\n",
       "                                 ↑\r\n",
       "                                </td>\r\n",
       "                            \r\n",
       "                            </tr>\r\n",
       "                        \n",
       "\r\n",
       "                            <tr>\r\n",
       "                                <td>$\\left|1\\right\\rangle$</td>\r\n",
       "                                <td>$0.3821 + 0.0000 i$</td>\r\n",
       "                                \r\n",
       "                                <td>\r\n",
       "                                    <progress\r\n",
       "                                        max=\"100\"\r\n",
       "                                        value=\"14.596329086321447\"\r\n",
       "                                        style=\"width: 100%;\"\r\n",
       "                                    > \r\n",
       "                                    <td>\r\n",
       "                                    <p id=\"round-27d08e84-cd6e-4f63-80b1-3412d4ff3c87\"> \r\n",
       "                                    <script>\r\n",
       "                                    var num = 14.596329086321447;\r\n",
       "                                    num = num.toFixed(4);\r\n",
       "                                    var num_string = num + \"%\";\r\n",
       "                                     document.getElementById(\"round-27d08e84-cd6e-4f63-80b1-3412d4ff3c87\").innerHTML = num_string;\r\n",
       "                                    </script> </p>\r\n",
       "                                    </td>\r\n",
       "                                </td>\r\n",
       "                            \r\n",
       "                                \r\n",
       "                                <td style=\"transform: rotate(0deg);\r\n",
       "                   text-align: center;\">\r\n",
       "                                 ↑\r\n",
       "                                </td>\r\n",
       "                            \r\n",
       "                            </tr>\r\n",
       "                        \n",
       "\r\n",
       "                            <tr>\r\n",
       "                                <td>$\\left|2\\right\\rangle$</td>\r\n",
       "                                <td>$0.3390 + 0.0000 i$</td>\r\n",
       "                                \r\n",
       "                                <td>\r\n",
       "                                    <progress\r\n",
       "                                        max=\"100\"\r\n",
       "                                        value=\"11.492442353296507\"\r\n",
       "                                        style=\"width: 100%;\"\r\n",
       "                                    > \r\n",
       "                                    <td>\r\n",
       "                                    <p id=\"round-ca1898d5-dbb8-49b3-b6d9-49ef81b92948\"> \r\n",
       "                                    <script>\r\n",
       "                                    var num = 11.492442353296507;\r\n",
       "                                    num = num.toFixed(4);\r\n",
       "                                    var num_string = num + \"%\";\r\n",
       "                                     document.getElementById(\"round-ca1898d5-dbb8-49b3-b6d9-49ef81b92948\").innerHTML = num_string;\r\n",
       "                                    </script> </p>\r\n",
       "                                    </td>\r\n",
       "                                </td>\r\n",
       "                            \r\n",
       "                                \r\n",
       "                                <td style=\"transform: rotate(0deg);\r\n",
       "                   text-align: center;\">\r\n",
       "                                 ↑\r\n",
       "                                </td>\r\n",
       "                            \r\n",
       "                            </tr>\r\n",
       "                        \n",
       "\r\n",
       "                            <tr>\r\n",
       "                                <td>$\\left|3\\right\\rangle$</td>\r\n",
       "                                <td>$0.5950 + 0.0000 i$</td>\r\n",
       "                                \r\n",
       "                                <td>\r\n",
       "                                    <progress\r\n",
       "                                        max=\"100\"\r\n",
       "                                        value=\"35.40367091367857\"\r\n",
       "                                        style=\"width: 100%;\"\r\n",
       "                                    > \r\n",
       "                                    <td>\r\n",
       "                                    <p id=\"round-429bcecf-96c0-43ea-99b2-8e87a36e4556\"> \r\n",
       "                                    <script>\r\n",
       "                                    var num = 35.40367091367857;\r\n",
       "                                    num = num.toFixed(4);\r\n",
       "                                    var num_string = num + \"%\";\r\n",
       "                                     document.getElementById(\"round-429bcecf-96c0-43ea-99b2-8e87a36e4556\").innerHTML = num_string;\r\n",
       "                                    </script> </p>\r\n",
       "                                    </td>\r\n",
       "                                </td>\r\n",
       "                            \r\n",
       "                                \r\n",
       "                                <td style=\"transform: rotate(0deg);\r\n",
       "                   text-align: center;\">\r\n",
       "                                 ↑\r\n",
       "                                </td>\r\n",
       "                            \r\n",
       "                            </tr>\r\n",
       "                        \r\n",
       "                        </tbody>\r\n",
       "                    </table>"
      ],
      "text/plain": [
       "|0⟩\t0.6205445805637456 + 0𝑖\n",
       "|1⟩\t0.3820514243700898 + 0𝑖\n",
       "|2⟩\t0.33900504942104487 + 0𝑖\n",
       "|3⟩\t0.595009839529386 + 0𝑖"
      ]
     },
     "metadata": {},
     "output_type": "display_data"
    },
    {
     "data": {
      "application/x-qsharp-data": "\"Success!\"",
      "text/plain": [
       "Success!"
      ]
     },
     "execution_count": 47,
     "metadata": {},
     "output_type": "execute_result"
    }
   ],
   "source": [
    "%kata T2_LearnBasisStateAmplitudes\n",
    "\n",
    "operation LearnBasisStateAmplitudes (qs : Qubit[]) : (Double, Double) {\n",
    "    DumpMachine();\n",
    "    \n",
    "    return (0.3821,0.3390);\n",
    "}"
   ]
  },
  {
   "cell_type": "markdown",
   "metadata": {},
   "source": [
    "# Configure DumpMachine output\n",
    "\n",
    "Sometimes you want to focus on certain properties of the quantum state, such as the relative phases of individual basis states, or on certain parts of the state, such as the basis states with larger amplitudes associated with them. \n",
    "[%config](https://docs.microsoft.com/qsharp/api/iqsharp-magic/config) magic command allows you to tweak the format of `DumpMachine` output (available in Q# Jupyter Notebooks only). \n",
    "Here are some useful options that help you extract the right information:\n",
    "\n",
    "* `dump.basisStateLabelingConvention` sets the way the basis states are labeled in the output. Here is how the basis state $|10\\rangle$ will look like with different settings:\n",
    "\n",
    "  <table style=\"background-color: white; border:1px solid; tr  { background-color:transparent; }\">\n",
    "    <col>\n",
    "    <col width=300>\n",
    "    <tr>\n",
    "        <th style=\"text-align:center; border:1px solid\">dump.basisStateLabelingConvention value</th>\n",
    "        <th style=\"text-align:center; border:1px solid\">DumpMachine output (first two columns)</th>\n",
    "    </tr>\n",
    "    <tr>\n",
    "        <td style=\"text-align:left; border:1px solid\"><tt>\"LittleEndian\"</tt> (default)</td>\n",
    "        <td style=\"text-align:center; border:1px solid\"><img src=\"./img/DumpMachine_LittleEndian.PNG\"/></td>\n",
    "    </tr>\n",
    "    <tr>\n",
    "        <td style=\"text-align:left; border:1px solid\"><tt>\"BigEndian\"</tt></td>\n",
    "        <td style=\"text-align:center; border:1px solid\"><img src=\"./img/DumpMachine_BigEndian.PNG\"/></td>\n",
    "    </tr>\n",
    "    <tr>\n",
    "        <td style=\"text-align:left; border:1px solid\"><tt>\"Bitstring\"</tt></td>\n",
    "        <td style=\"text-align:center; border:1px solid\"><img src=\"./img/DumpMachine_Bitstring.PNG\"/></td>\n",
    "    </tr>\n",
    "  </table>\n"
   ]
  },
  {
   "cell_type": "markdown",
   "metadata": {},
   "source": [
    "* `dump.truncateSmallAmplitudes`, when set to `true`, removes basis states with measurement probabilities less than a certain threshold from the output. \n",
    "By default the measurement probability has to be less than $10^{-10}$ for the state to be truncated; you can change that threshold using the `dump.truncationThreshold` setting.\n",
    "* `dump.measurementDisplayStyle` and `dump.phaseDisplayStyle` set the style of display for \"Measurement Probability\" and \"Phase\" columns; you can choose between bar/arrow, number, both, or none for each of the columns. \n",
    "If you choose to display the numeric value of measurement probability, you can configure its probability using `dump.measurementDisplayPrecision`."
   ]
  },
  {
   "cell_type": "code",
   "execution_count": null,
   "metadata": {
    "ExecuteTime": {
     "start_time": "2021-11-20T06:03:31.871Z"
    }
   },
   "outputs": [
    {
     "data": {
      "application/x-qsharp-data": "\"\\\"Bitstring\\\"\"",
      "text/plain": [
       "\"Bitstring\""
      ]
     },
     "execution_count": 1,
     "metadata": {},
     "output_type": "execute_result"
    }
   ],
   "source": [
    "%config dump.basisStateLabelingConvention = \"Bitstring\""
   ]
  },
  {
   "cell_type": "code",
   "execution_count": null,
   "metadata": {
    "ExecuteTime": {
     "start_time": "2021-11-20T06:04:35.350Z"
    }
   },
   "outputs": [
    {
     "data": {
      "application/x-qsharp-data": "\"true\"",
      "text/plain": [
       "true"
      ]
     },
     "execution_count": 2,
     "metadata": {},
     "output_type": "execute_result"
    }
   ],
   "source": [
    "%config dump.truncateSmallAmplitudes = true"
   ]
  },
  {
   "cell_type": "code",
   "execution_count": null,
   "metadata": {
    "ExecuteTime": {
     "start_time": "2021-11-20T06:06:23.066Z"
    }
   },
   "outputs": [
    {
     "data": {
      "application/x-qsharp-data": "\"0.0001\"",
      "text/plain": [
       "0.0001"
      ]
     },
     "execution_count": 4,
     "metadata": {},
     "output_type": "execute_result"
    }
   ],
   "source": [
    "%config dump.truncationThreshold = 0.0001"
   ]
  },
  {
   "cell_type": "code",
   "execution_count": null,
   "metadata": {
    "ExecuteTime": {
     "start_time": "2021-11-20T06:14:20.883Z"
    }
   },
   "outputs": [
    {
     "data": {
      "application/x-qsharp-data": "\"\\\"LittleEndian\\\"\"",
      "text/plain": [
       "\"LittleEndian\""
      ]
     },
     "execution_count": 9,
     "metadata": {},
     "output_type": "execute_result"
    }
   ],
   "source": [
    "%config dump.basisStateLabelingConvention = \"LittleEndian\""
   ]
  },
  {
   "cell_type": "code",
   "execution_count": null,
   "metadata": {
    "ExecuteTime": {
     "start_time": "2021-11-20T06:14:22.374Z"
    }
   },
   "outputs": [],
   "source": [
    "%config --save"
   ]
  },
  {
   "cell_type": "markdown",
   "metadata": {},
   "source": [
    "### <span style=\"color:blue\">Exercise 3</span>: High-probability basis states\n",
    "\n",
    "**Input:** $N$ qubits in an unknown state $|\\psi\\rangle = \\sum_{k = 0}^{2^N-1} x_k |k\\rangle$. The amplitudes $x_k$ will be real and non-negative.\n",
    "\n",
    "**Output:** An array of integers which represent the basis states which have amplitudes bigger than 0.01 (in little endian encoding). The integers can be returned in any order.\n",
    "\n",
    "The test will call your code exactly once, with the fixed state parameter that will not change if you run the cell several times."
   ]
  },
  {
   "cell_type": "code",
   "execution_count": null,
   "metadata": {
    "ExecuteTime": {
     "start_time": "2021-11-20T06:15:20.822Z"
    }
   },
   "outputs": [
    {
     "data": {
      "application/x-qsharp-data": "{\"diagnostic_kind\":\"state-vector\",\"div_id\":\"dump-machine-div-376f905b-6a69-453a-b218-20775f1cdf85\",\"qubit_ids\":[0,1,2,3,4],\"n_qubits\":5,\"amplitudes\":[{\"Real\":0.06159068984682361,\"Imaginary\":5.469811143282787E-19,\"Magnitude\":0.06159068984682361,\"Phase\":8.880905794181294E-18},{\"Real\":0.0061590689846823705,\"Imaginary\":-3.246382187524381E-18,\"Magnitude\":0.0061590689846823705,\"Phase\":-5.270897591175138E-16},{\"Real\":0.030795344923411804,\"Imaginary\":-1.4419681984228226E-18,\"Magnitude\":0.030795344923411804,\"Phase\":-4.6824226259163703E-17},{\"Real\":0.0012318137969364786,\"Imaginary\":2.320695259140424E-18,\"Magnitude\":0.0012318137969364786,\"Phase\":1.8839659572834743E-15},{\"Real\":-7.723834734040064E-19,\"Imaginary\":-1.2305412217148077E-19,\"Magnitude\":7.821243807547692E-19,\"Phase\":-2.9836030296367784},{\"Real\":0.004311348289277653,\"Imaginary\":-5.143689074449896E-19,\"Magnitude\":0.004311348289277653,\"Phase\":-1.1930581176292993E-16},{\"Real\":0.009238603477023538,\"Imaginary\":-1.84951424988196E-18,\"Magnitude\":0.009238603477023538,\"Phase\":-2.0019413696904657E-16},{\"Real\":0.0018477206954047077,\"Imaginary\":1.018872043214307E-19,\"Magnitude\":0.0018477206954047077,\"Phase\":5.5142102686204027E-17},{\"Real\":0.012318137969364816,\"Imaginary\":2.220491799859308E-17,\"Magnitude\":0.012318137969364816,\"Phase\":1.8026196860123394E-15},{\"Real\":0.5543162086214128,\"Imaginary\":2.58884803079269E-19,\"Magnitude\":0.5543162086214128,\"Phase\":4.67034517578183E-19},{\"Real\":-2.0007720313290064E-17,\"Imaginary\":-3.187815940510297E-17,\"Magnitude\":3.763676286813193E-17,\"Phase\":-2.131285343473815},{\"Real\":0.18477206954047093,\"Imaginary\":4.8759765711564365E-17,\"Magnitude\":0.18477206954047093,\"Phase\":2.6389143030562007E-16},{\"Real\":0.0061590689846824295,\"Imaginary\":-8.570393281076171E-19,\"Magnitude\":0.0061590689846824295,\"Phase\":-1.3915079214716853E-16},{\"Real\":0.003695441390809459,\"Imaginary\":-1.1176182525500324E-18,\"Magnitude\":0.003695441390809459,\"Phase\":-3.0243160000576453E-16},{\"Real\":0.0006159068984680611,\"Imaginary\":4.951966544023059E-18,\"Magnitude\":0.0006159068984680611,\"Phase\":8.040121902092726E-15},{\"Real\":0.43113482892776556,\"Imaginary\":6.779050315471062E-18,\"Magnitude\":0.43113482892776556,\"Phase\":1.5723736197167355E-17},{\"Real\":-1.3478681116957138E-19,\"Imaginary\":-2.521968108167059E-21,\"Magnitude\":1.3481040311637786E-19,\"Phase\":-3.1228840437514087},{\"Real\":0.0006159068984682132,\"Imaginary\":1.4656733494813906E-17,\"Magnitude\":0.0006159068984682132,\"Phase\":2.379699518103439E-14},{\"Real\":0.12318137969364733,\"Imaginary\":-1.8950219978185006E-17,\"Magnitude\":0.12318137969364733,\"Phase\":-1.538399717986135E-16},{\"Real\":0.0018477206954047307,\"Imaginary\":-3.855458873308405E-18,\"Magnitude\":0.0018477206954047307,\"Phase\":-2.0866026358295957E-15},{\"Real\":0.49272551877458953,\"Imaginary\":5.871970441988578E-18,\"Magnitude\":0.49272551877458953,\"Phase\":1.191732560674388E-17},{\"Real\":1.5782422919360417E-16,\"Imaginary\":4.930035433649776E-18,\"Magnitude\":1.5790121142642427E-16,\"Phase\":0.031227352420280807},{\"Real\":0.1108632417242826,\"Imaginary\":-1.497548001047319E-17,\"Magnitude\":0.1108632417242826,\"Phase\":-1.3508066134054856E-16},{\"Real\":0.003079534492341196,\"Imaginary\":1.3634245276397834E-17,\"Magnitude\":0.003079534492341196,\"Phase\":4.427372159755382E-15},{\"Real\":0.007390882781618866,\"Imaginary\":-3.528173878711018E-17,\"Magnitude\":0.007390882781618866,\"Phase\":-4.77368398736561E-15},{\"Real\":0.36954413908094247,\"Imaginary\":-2.963135977609449E-17,\"Magnitude\":0.36954413908094247,\"Phase\":-8.018354681469928E-17},{\"Real\":6.15906898468225E-05,\"Imaginary\":-1.7424319045509376E-18,\"Magnitude\":6.15906898468225E-05,\"Phase\":-2.8290508011590823E-14},{\"Real\":0.0007390882781618709,\"Imaginary\":-1.9976662157316237E-17,\"Magnitude\":0.0007390882781618709,\"Phase\":-2.702879039970522E-14},{\"Real\":0.24636275938729485,\"Imaginary\":-1.1331368386300426E-18,\"Magnitude\":0.24636275938729485,\"Phase\":-4.599464795118217E-18},{\"Real\":0.007390882781618896,\"Imaginary\":1.3063002781467785E-17,\"Magnitude\":0.007390882781618896,\"Phase\":1.767448242306783E-15},{\"Real\":-9.247995015302159E-18,\"Imaginary\":1.0180535359841418E-17,\"Magnitude\":1.3753861712843961E-17,\"Phase\":2.308232798361261},{\"Real\":-2.277746138312189E-34,\"Imaginary\":3.9723548673476704E-33,\"Magnitude\":3.978879800502484E-33,\"Phase\":1.6280735544510734}]}",
      "text/html": [
       "\r\n",
       "                    <table style=\"table-layout: fixed; width: 100%\">\r\n",
       "                        <thead>\r\n",
       "                            \r\n",
       "                        <tr>\r\n",
       "                            <th>Qubit IDs</th>\r\n",
       "                            <td span=\"3\">0, 1, 2, 3, 4</td>\r\n",
       "                        </tr>\r\n",
       "                    \r\n",
       "                            <tr>\r\n",
       "                                <th style=\"width: 20ch)\">Basis state (little endian)</th>\r\n",
       "                                <th style=\"width: 20ch\">Amplitude</th><th style=\"width: calc(100% - 26ch - 20ch)\">Meas. Pr.</th><th style=\"width: 6ch\">Phase</th>\r\n",
       "                            </tr>\r\n",
       "                        </thead>\r\n",
       "                        <tbody>\r\n",
       "                        \r\n",
       "                            <tr>\r\n",
       "                                <td>$\\left|0\\right\\rangle$</td>\r\n",
       "                                <td>$0.0616 + 0.0000 i$</td>\r\n",
       "                                \r\n",
       "                                <td>\r\n",
       "                                    <progress\r\n",
       "                                        max=\"100\"\r\n",
       "                                        value=\"0.37934130758076207\"\r\n",
       "                                        style=\"width: 100%;\"\r\n",
       "                                    > \r\n",
       "                                    <td>\r\n",
       "                                    <p id=\"round-46a0a812-c944-4e85-a3cb-951d5588969b\"> \r\n",
       "                                    <script>\r\n",
       "                                    var num = 0.37934130758076207;\r\n",
       "                                    num = num.toFixed(4);\r\n",
       "                                    var num_string = num + \"%\";\r\n",
       "                                     document.getElementById(\"round-46a0a812-c944-4e85-a3cb-951d5588969b\").innerHTML = num_string;\r\n",
       "                                    </script> </p>\r\n",
       "                                    </td>\r\n",
       "                                </td>\r\n",
       "                            \r\n",
       "                                \r\n",
       "                                <td style=\"transform: rotate(5.088384202598666E-16deg);\r\n",
       "                   text-align: center;\">\r\n",
       "                                 ↑\r\n",
       "                                </td>\r\n",
       "                            \r\n",
       "                            </tr>\r\n",
       "                        \n",
       "\r\n",
       "                            <tr>\r\n",
       "                                <td>$\\left|2\\right\\rangle$</td>\r\n",
       "                                <td>$0.0308  -0.0000 i$</td>\r\n",
       "                                \r\n",
       "                                <td>\r\n",
       "                                    <progress\r\n",
       "                                        max=\"100\"\r\n",
       "                                        value=\"0.09483532689519052\"\r\n",
       "                                        style=\"width: 100%;\"\r\n",
       "                                    > \r\n",
       "                                    <td>\r\n",
       "                                    <p id=\"round-68f63402-b533-495e-8776-8ad72cbd9737\"> \r\n",
       "                                    <script>\r\n",
       "                                    var num = 0.09483532689519052;\r\n",
       "                                    num = num.toFixed(4);\r\n",
       "                                    var num_string = num + \"%\";\r\n",
       "                                     document.getElementById(\"round-68f63402-b533-495e-8776-8ad72cbd9737\").innerHTML = num_string;\r\n",
       "                                    </script> </p>\r\n",
       "                                    </td>\r\n",
       "                                </td>\r\n",
       "                            \r\n",
       "                                \r\n",
       "                                <td style=\"transform: rotate(-2.6828305436157232E-15deg);\r\n",
       "                   text-align: center;\">\r\n",
       "                                 ↑\r\n",
       "                                </td>\r\n",
       "                            \r\n",
       "                            </tr>\r\n",
       "                        \n",
       "\r\n",
       "                            <tr>\r\n",
       "                                <td>$\\left|8\\right\\rangle$</td>\r\n",
       "                                <td>$0.0123 + 0.0000 i$</td>\r\n",
       "                                \r\n",
       "                                <td>\r\n",
       "                                    <progress\r\n",
       "                                        max=\"100\"\r\n",
       "                                        value=\"0.015173652303230714\"\r\n",
       "                                        style=\"width: 100%;\"\r\n",
       "                                    > \r\n",
       "                                    <td>\r\n",
       "                                    <p id=\"round-2a3aa146-7ef7-4cb1-a9a1-f80932dc9f27\"> \r\n",
       "                                    <script>\r\n",
       "                                    var num = 0.015173652303230714;\r\n",
       "                                    num = num.toFixed(4);\r\n",
       "                                    var num_string = num + \"%\";\r\n",
       "                                     document.getElementById(\"round-2a3aa146-7ef7-4cb1-a9a1-f80932dc9f27\").innerHTML = num_string;\r\n",
       "                                    </script> </p>\r\n",
       "                                    </td>\r\n",
       "                                </td>\r\n",
       "                            \r\n",
       "                                \r\n",
       "                                <td style=\"transform: rotate(1.0328250007570469E-13deg);\r\n",
       "                   text-align: center;\">\r\n",
       "                                 ↑\r\n",
       "                                </td>\r\n",
       "                            \r\n",
       "                            </tr>\r\n",
       "                        \n",
       "\r\n",
       "                            <tr>\r\n",
       "                                <td>$\\left|9\\right\\rangle$</td>\r\n",
       "                                <td>$0.5543 + 0.0000 i$</td>\r\n",
       "                                \r\n",
       "                                <td>\r\n",
       "                                    <progress\r\n",
       "                                        max=\"100\"\r\n",
       "                                        value=\"30.726645914041768\"\r\n",
       "                                        style=\"width: 100%;\"\r\n",
       "                                    > \r\n",
       "                                    <td>\r\n",
       "                                    <p id=\"round-164c3c1d-a3cf-4098-bec3-283535730120\"> \r\n",
       "                                    <script>\r\n",
       "                                    var num = 30.726645914041768;\r\n",
       "                                    num = num.toFixed(4);\r\n",
       "                                    var num_string = num + \"%\";\r\n",
       "                                     document.getElementById(\"round-164c3c1d-a3cf-4098-bec3-283535730120\").innerHTML = num_string;\r\n",
       "                                    </script> </p>\r\n",
       "                                    </td>\r\n",
       "                                </td>\r\n",
       "                            \r\n",
       "                                \r\n",
       "                                <td style=\"transform: rotate(2.6759106744158344E-17deg);\r\n",
       "                   text-align: center;\">\r\n",
       "                                 ↑\r\n",
       "                                </td>\r\n",
       "                            \r\n",
       "                            </tr>\r\n",
       "                        \n",
       "\r\n",
       "                            <tr>\r\n",
       "                                <td>$\\left|11\\right\\rangle$</td>\r\n",
       "                                <td>$0.1848 + 0.0000 i$</td>\r\n",
       "                                \r\n",
       "                                <td>\r\n",
       "                                    <progress\r\n",
       "                                        max=\"100\"\r\n",
       "                                        value=\"3.4140717682268624\"\r\n",
       "                                        style=\"width: 100%;\"\r\n",
       "                                    > \r\n",
       "                                    <td>\r\n",
       "                                    <p id=\"round-2d9b575f-c269-42ef-8152-ec2025859438\"> \r\n",
       "                                    <script>\r\n",
       "                                    var num = 3.4140717682268624;\r\n",
       "                                    num = num.toFixed(4);\r\n",
       "                                    var num_string = num + \"%\";\r\n",
       "                                     document.getElementById(\"round-2d9b575f-c269-42ef-8152-ec2025859438\").innerHTML = num_string;\r\n",
       "                                    </script> </p>\r\n",
       "                                    </td>\r\n",
       "                                </td>\r\n",
       "                            \r\n",
       "                                \r\n",
       "                                <td style=\"transform: rotate(1.5119865206182737E-14deg);\r\n",
       "                   text-align: center;\">\r\n",
       "                                 ↑\r\n",
       "                                </td>\r\n",
       "                            \r\n",
       "                            </tr>\r\n",
       "                        \n",
       "\r\n",
       "                            <tr>\r\n",
       "                                <td>$\\left|15\\right\\rangle$</td>\r\n",
       "                                <td>$0.4311 + 0.0000 i$</td>\r\n",
       "                                \r\n",
       "                                <td>\r\n",
       "                                    <progress\r\n",
       "                                        max=\"100\"\r\n",
       "                                        value=\"18.587724071457366\"\r\n",
       "                                        style=\"width: 100%;\"\r\n",
       "                                    > \r\n",
       "                                    <td>\r\n",
       "                                    <p id=\"round-89888b06-e01e-4945-84a4-c48268ef0c29\"> \r\n",
       "                                    <script>\r\n",
       "                                    var num = 18.587724071457366;\r\n",
       "                                    num = num.toFixed(4);\r\n",
       "                                    var num_string = num + \"%\";\r\n",
       "                                     document.getElementById(\"round-89888b06-e01e-4945-84a4-c48268ef0c29\").innerHTML = num_string;\r\n",
       "                                    </script> </p>\r\n",
       "                                    </td>\r\n",
       "                                </td>\r\n",
       "                            \r\n",
       "                                \r\n",
       "                                <td style=\"transform: rotate(9.009037222747723E-16deg);\r\n",
       "                   text-align: center;\">\r\n",
       "                                 ↑\r\n",
       "                                </td>\r\n",
       "                            \r\n",
       "                            </tr>\r\n",
       "                        \n",
       "\r\n",
       "                            <tr>\r\n",
       "                                <td>$\\left|18\\right\\rangle$</td>\r\n",
       "                                <td>$0.1232  -0.0000 i$</td>\r\n",
       "                                \r\n",
       "                                <td>\r\n",
       "                                    <progress\r\n",
       "                                        max=\"100\"\r\n",
       "                                        value=\"1.517365230323051\"\r\n",
       "                                        style=\"width: 100%;\"\r\n",
       "                                    > \r\n",
       "                                    <td>\r\n",
       "                                    <p id=\"round-aff793a3-4410-4d8b-821f-ecee12148d22\"> \r\n",
       "                                    <script>\r\n",
       "                                    var num = 1.517365230323051;\r\n",
       "                                    num = num.toFixed(4);\r\n",
       "                                    var num_string = num + \"%\";\r\n",
       "                                     document.getElementById(\"round-aff793a3-4410-4d8b-821f-ecee12148d22\").innerHTML = num_string;\r\n",
       "                                    </script> </p>\r\n",
       "                                    </td>\r\n",
       "                                </td>\r\n",
       "                            \r\n",
       "                                \r\n",
       "                                <td style=\"transform: rotate(-8.814381104472162E-15deg);\r\n",
       "                   text-align: center;\">\r\n",
       "                                 ↑\r\n",
       "                                </td>\r\n",
       "                            \r\n",
       "                            </tr>\r\n",
       "                        \n",
       "\r\n",
       "                            <tr>\r\n",
       "                                <td>$\\left|20\\right\\rangle$</td>\r\n",
       "                                <td>$0.4927 + 0.0000 i$</td>\r\n",
       "                                \r\n",
       "                                <td>\r\n",
       "                                    <progress\r\n",
       "                                        max=\"100\"\r\n",
       "                                        value=\"24.277843685168836\"\r\n",
       "                                        style=\"width: 100%;\"\r\n",
       "                                    > \r\n",
       "                                    <td>\r\n",
       "                                    <p id=\"round-896b3a6a-42f0-4c55-be15-9bb6a226027b\"> \r\n",
       "                                    <script>\r\n",
       "                                    var num = 24.277843685168836;\r\n",
       "                                    num = num.toFixed(4);\r\n",
       "                                    var num_string = num + \"%\";\r\n",
       "                                     document.getElementById(\"round-896b3a6a-42f0-4c55-be15-9bb6a226027b\").innerHTML = num_string;\r\n",
       "                                    </script> </p>\r\n",
       "                                    </td>\r\n",
       "                                </td>\r\n",
       "                            \r\n",
       "                                \r\n",
       "                                <td style=\"transform: rotate(6.828124603496074E-16deg);\r\n",
       "                   text-align: center;\">\r\n",
       "                                 ↑\r\n",
       "                                </td>\r\n",
       "                            \r\n",
       "                            </tr>\r\n",
       "                        \n",
       "\r\n",
       "                            <tr>\r\n",
       "                                <td>$\\left|22\\right\\rangle$</td>\r\n",
       "                                <td>$0.1109  -0.0000 i$</td>\r\n",
       "                                \r\n",
       "                                <td>\r\n",
       "                                    <progress\r\n",
       "                                        max=\"100\"\r\n",
       "                                        value=\"1.2290658365616713\"\r\n",
       "                                        style=\"width: 100%;\"\r\n",
       "                                    > \r\n",
       "                                    <td>\r\n",
       "                                    <p id=\"round-4d3d105a-d38d-47d9-8742-e1312faeebff\"> \r\n",
       "                                    <script>\r\n",
       "                                    var num = 1.2290658365616713;\r\n",
       "                                    num = num.toFixed(4);\r\n",
       "                                    var num_string = num + \"%\";\r\n",
       "                                     document.getElementById(\"round-4d3d105a-d38d-47d9-8742-e1312faeebff\").innerHTML = num_string;\r\n",
       "                                    </script> </p>\r\n",
       "                                    </td>\r\n",
       "                                </td>\r\n",
       "                            \r\n",
       "                                \r\n",
       "                                <td style=\"transform: rotate(-7.739551788649414E-15deg);\r\n",
       "                   text-align: center;\">\r\n",
       "                                 ↑\r\n",
       "                                </td>\r\n",
       "                            \r\n",
       "                            </tr>\r\n",
       "                        \n",
       "\r\n",
       "                            <tr>\r\n",
       "                                <td>$\\left|25\\right\\rangle$</td>\r\n",
       "                                <td>$0.3695  -0.0000 i$</td>\r\n",
       "                                \r\n",
       "                                <td>\r\n",
       "                                    <progress\r\n",
       "                                        max=\"100\"\r\n",
       "                                        value=\"13.656287072907494\"\r\n",
       "                                        style=\"width: 100%;\"\r\n",
       "                                    > \r\n",
       "                                    <td>\r\n",
       "                                    <p id=\"round-d956ccf6-8b38-4af4-9e7c-c309d993b752\"> \r\n",
       "                                    <script>\r\n",
       "                                    var num = 13.656287072907494;\r\n",
       "                                    num = num.toFixed(4);\r\n",
       "                                    var num_string = num + \"%\";\r\n",
       "                                     document.getElementById(\"round-d956ccf6-8b38-4af4-9e7c-c309d993b752\").innerHTML = num_string;\r\n",
       "                                    </script> </p>\r\n",
       "                                    </td>\r\n",
       "                                </td>\r\n",
       "                            \r\n",
       "                                \r\n",
       "                                <td style=\"transform: rotate(-4.5941788188719244E-15deg);\r\n",
       "                   text-align: center;\">\r\n",
       "                                 ↑\r\n",
       "                                </td>\r\n",
       "                            \r\n",
       "                            </tr>\r\n",
       "                        \n",
       "\r\n",
       "                            <tr>\r\n",
       "                                <td>$\\left|28\\right\\rangle$</td>\r\n",
       "                                <td>$0.2464  -0.0000 i$</td>\r\n",
       "                                \r\n",
       "                                <td>\r\n",
       "                                    <progress\r\n",
       "                                        max=\"100\"\r\n",
       "                                        value=\"6.0694609212922135\"\r\n",
       "                                        style=\"width: 100%;\"\r\n",
       "                                    > \r\n",
       "                                    <td>\r\n",
       "                                    <p id=\"round-5f02e6aa-7b73-44f6-858f-2e5d7cf54f73\"> \r\n",
       "                                    <script>\r\n",
       "                                    var num = 6.0694609212922135;\r\n",
       "                                    num = num.toFixed(4);\r\n",
       "                                    var num_string = num + \"%\";\r\n",
       "                                     document.getElementById(\"round-5f02e6aa-7b73-44f6-858f-2e5d7cf54f73\").innerHTML = num_string;\r\n",
       "                                    </script> </p>\r\n",
       "                                    </td>\r\n",
       "                                </td>\r\n",
       "                            \r\n",
       "                                \r\n",
       "                                <td style=\"transform: rotate(-2.635299207792777E-16deg);\r\n",
       "                   text-align: center;\">\r\n",
       "                                 ↑\r\n",
       "                                </td>\r\n",
       "                            \r\n",
       "                            </tr>\r\n",
       "                        \r\n",
       "                        </tbody>\r\n",
       "                    </table>"
      ],
      "text/plain": [
       "|0⟩\t0.06159068984682361 + 5.469811143282787E-19𝑖\n",
       "|2⟩\t0.030795344923411804 + -1.4419681984228226E-18𝑖\n",
       "|8⟩\t0.012318137969364816 + 2.220491799859308E-17𝑖\n",
       "|9⟩\t0.5543162086214128 + 2.58884803079269E-19𝑖\n",
       "|11⟩\t0.18477206954047093 + 4.8759765711564365E-17𝑖\n",
       "|15⟩\t0.43113482892776556 + 6.779050315471062E-18𝑖\n",
       "|18⟩\t0.12318137969364733 + -1.8950219978185006E-17𝑖\n",
       "|20⟩\t0.49272551877458953 + 5.871970441988578E-18𝑖\n",
       "|22⟩\t0.1108632417242826 + -1.497548001047319E-17𝑖\n",
       "|25⟩\t0.36954413908094247 + -2.963135977609449E-17𝑖\n",
       "|28⟩\t0.24636275938729485 + -1.1331368386300426E-18𝑖"
      ]
     },
     "metadata": {},
     "output_type": "display_data"
    },
    {
     "data": {
      "application/x-qsharp-data": "\"Success!\"",
      "text/plain": [
       "Success!"
      ]
     },
     "execution_count": 15,
     "metadata": {},
     "output_type": "execute_result"
    }
   ],
   "source": [
    "%kata T3_HighProbabilityBasisStates\n",
    "\n",
    "open Microsoft.Quantum.Diagnostics;\n",
    "\n",
    "operation HighProbabilityBasisStates (qs : Qubit[]) : Int[] {\n",
    "    \n",
    "    // output display \n",
    "    DumpMachine();\n",
    "    \n",
    "    // this is the integer array\n",
    "    return [0,2,8,9,11,15,18,20,22,25,28];\n",
    "    \n",
    "}"
   ]
  },
  {
   "cell_type": "markdown",
   "metadata": {},
   "source": [
    "# Display the matrix implemented by the operation\n",
    "\n",
    "Let's consider a more complex scenario: you've written a Q# operation and want to check that it implements exactly the matrix you're looking for. \n",
    "(An examples of such cases could be quantum oracle implementation, unitary gate synthesis, or more uncommon scenarios such as the [UnitaryPatterns kata](../../UnitaryPatterns/UnitaryPatterns.ipynb)).\n",
    "\n",
    "You could do this semi-manually, by applying the operation to each basis state in turn and checking the amplitudes of the resulting states. \n",
    "However, [DumpOperation](https://docs.microsoft.com/qsharp/api/qsharp/microsoft.quantum.diagnostics.dumpoperation) library operation offers you a shorter and more elegant way to do this.\n",
    "\n",
    "> `DumpOperation` is available both in standalone Q# applications as well, but the outputs it produces differs slightly: in plain text mode it is printed with the real and the imaginary components separated into two matrices.\n",
    "\n",
    "Similarly to `DumpMachine`, the output of `DumpOperation` is accurate up to a global phase.\n",
    "\n",
    "### <span style=\"color:blue\">Demo: Using DumpOperation</span>\n",
    "\n",
    "`DumpOperation` requires an operation that acts on an array of qubits. \n",
    "If your operation acts on a single qubit, such as most intrinsic gates, or on a mix of individual qubits and qubit arrays, you'll need to write a wrapper for it that takes a single array of qubits as an argument and applies the operation to the right qubits of that array."
   ]
  },
  {
   "cell_type": "code",
   "execution_count": null,
   "metadata": {
    "ExecuteTime": {
     "start_time": "2021-11-20T06:38:41.101Z"
    }
   },
   "outputs": [
    {
     "name": "stderr",
     "output_type": "stream",
     "text": [
      "/snippet_.qs(9,5): error QS0001: The type (Qubit, Qubit) does not match the type Qubit[].\n",
      "Actual type:   ((Qubit, Qubit) => Unit is Adj + Ctl)\n",
      "Expected type: (Qubit[] => Unit is Adj)\n",
      "/snippet_.qs(9,46): error QS0001: The type (Qubit[] => Unit is Adj) does not match the type ((Qubit, Qubit) => Unit is Adj + Ctl).\n",
      "Actual type:   (Qubit[] => Unit is Adj)\n",
      "Expected type: ((Qubit, Qubit) => Unit is Adj + Ctl)\n",
      "/snippet_.qs(9,22): error QS0001: The type Unit does not match the type (Qubit[] => Unit is Adj).\n",
      "Actual type:   Unit\n",
      "Expected type: (Qubit[] => Unit is Adj)\n"
     ]
    }
   ],
   "source": [
    "open Microsoft.Quantum.Diagnostics;\n",
    "open Quantum.Kata.VisualizationTools;\n",
    "\n",
    "operation DumpOperationDemo () : Unit {\n",
    "    use qs = Qubit[2];\n",
    "    \n",
    "    X(qs[1]);\n",
    "    \n",
    "    DumpOperation(2, ApplyToFirstTwoQubitsCA(MysteryOperation1, qs));\n",
    "}"
   ]
  },
  {
   "cell_type": "code",
   "execution_count": null,
   "metadata": {
    "ExecuteTime": {
     "start_time": "2021-11-20T06:31:50.790Z"
    }
   },
   "outputs": [
    {
     "data": {
      "application/x-qsharp-data": "{\"Qubits\":[{\"SimulatorId\":5,\"Probability\":0.5000000000000002,\"IsMeasured\":false,\"Id\":2,\"Qubits\":[]},{\"SimulatorId\":5,\"Probability\":0.5000000000000002,\"IsMeasured\":false,\"Id\":3,\"Qubits\":[]}],\"Data\":[1.0,0.0,0.0,0.0,0.0,0.0,0.0,0.0,0.0,0.0,0.0,0.0,0.0,0.0,1.0,0.0,0.0,0.0,0.0,0.0,1.0,0.0,0.0,0.0,0.0,0.0,1.0,0.0,0.0,0.0,0.0,0.0]}",
      "text/html": [
       "\r\n",
       "                    <table>\r\n",
       "                        <tr>\r\n",
       "                            <th>Qubit IDs</th>\r\n",
       "                            <td>2, 3\r\n",
       "                        </tr>\r\n",
       "\r\n",
       "                        <tr>\r\n",
       "                            <th>Unitary representation</th>\r\n",
       "                            <td>$$\r\n",
       "                                \\left(\\begin{matrix}\r\n",
       "                                    1 & 0 & 0 & 0 \\\\\n",
       "0 & 0 & 0 & 1 \\\\\n",
       "0 & 0 & 1 & 0 \\\\\n",
       "0 & 1 & 0 & 0\r\n",
       "                                \\end{matrix}\\right)\r\n",
       "                            $$</td>\r\n",
       "                        </tr>\r\n",
       "                    </table>\r\n",
       "                "
      ],
      "text/plain": [
       "Real:\n",
       "[[1, 0, 0, 0], \n",
       "[0, 0, 0, 1], \n",
       "[0, 0, 1, 0], \n",
       "[0, 1, 0, 0]]\n",
       "Imag:\n",
       "[[0, 0, 0, 0], \n",
       "[0, 0, 0, 0], \n",
       "[0, 0, 0, 0], \n",
       "[0, 0, 0, 0]]"
      ]
     },
     "metadata": {},
     "output_type": "display_data"
    },
    {
     "data": {
      "application/x-qsharp-data": "{\"@type\":\"tuple\"}",
      "text/plain": [
       "()"
      ]
     },
     "execution_count": 30,
     "metadata": {},
     "output_type": "execute_result"
    }
   ],
   "source": [
    "%simulate DumpOperationDemo"
   ]
  },
  {
   "cell_type": "markdown",
   "metadata": {},
   "source": [
    "> Note that the matrix of the CNOT gate produced by `DumpOperation` in this demo might differ from the one you are used to seeing in quantum computing resources, such as the [multi-qubit gates tutorial](../MultiQubitGates/MultiQubitGates.ipynb#CNOT-Gate):\n",
    "> $$\\begin{bmatrix} 1 & 0 & 0 & 0 \\\\ 0 & 1 & 0 & 0 \\\\ 0 & 0 & 0 & 1 \\\\ 0 & 0 & 1 & 0 \\end{bmatrix}$$\n",
    ">\n",
    "> Similarly to `DumpMachine`, the way `DumpOperation` evaluates the matrix depends on the conventions used by the simulator. \n",
    "> Q# full state simulator tends to use little-endian encoding for converting basis states to integers, and `DumpOperation` uses the same convention for converting basis states to the indices of matrix elements.\n",
    "> Thus, the second column of the CNOT matrix corresponds to the input state $|1\\rangle_{LE} = |10\\rangle$, which the CNOT gate converts to $|11\\rangle = |3\\rangle_{LE}$, meaning that the last element is going to be $1$.\n",
    ">\n",
    "> A lot of resources on quantum computing use big-endian encoding, so in them the second column of the CNOT matrix corresponds to the input state $|1\\rangle_{BE} = |01\\rangle$, which should be left unchanged by the CNOT gate."
   ]
  },
  {
   "cell_type": "markdown",
   "metadata": {},
   "source": [
    "## <span style=\"color:blue\">Exercise 4</span>: Read the operation matrix\n",
    "\n",
    "In this task you will be interpreting the matrix of an operation `MysteryOperation1` that implements a unitary operation $U$, defined in the `Quantum.Kata.VisualizationTools` namespace. \n",
    "This operation will not be passed as an input to your task; you can access it by creating a separate code cell with a new operation (or modifying `DumpOperationDemo`), and using `%simulate` for that operation.\n",
    "\n",
    "**Input:** None.\n",
    "\n",
    "**Output:** A single floating-point number: the amplitude of the $|10\\rangle$ basis state in the state $U|01\\rangle$ (i.e., the element of the matrix implemented by $U$ which describes the transformation $|01\\rangle \\rightarrow |10\\rangle$). The result must be within 0.001 from the actual value.\n",
    "\n",
    "<br/>\n",
    "<details>\n",
    "  <summary><b>Need a hint? Click here</b></summary>\n",
    "  There are two ways to do this task. You can use DumpOperation directly, or (since you're looking for just one coefficient, not all of them) you can allocate 2 qubits, prepare them in the right basis state, apply the MysteryOperation1 and use DumpMachine to see the amplitudes of the resulting superposition state.\n",
    "</details>"
   ]
  },
  {
   "cell_type": "code",
   "execution_count": null,
   "metadata": {
    "ExecuteTime": {
     "start_time": "2021-11-20T06:28:24.921Z"
    }
   },
   "outputs": [],
   "source": [
    "%config dump.basisStateLabelingConvention = \"Bitstring\"\n",
    "%config --save"
   ]
  },
  {
   "cell_type": "code",
   "execution_count": null,
   "metadata": {
    "ExecuteTime": {
     "start_time": "2021-11-20T06:39:13.347Z"
    }
   },
   "outputs": [
    {
     "data": {
      "application/x-qsharp-data": "{\"diagnostic_kind\":\"state-vector\",\"div_id\":\"dump-machine-div-6e4f51cf-5ce8-4251-a9ae-a0740755f842\",\"qubit_ids\":[0,1],\"n_qubits\":2,\"amplitudes\":[{\"Real\":-0.23690734653300186,\"Imaginary\":0.0,\"Magnitude\":0.23690734653300186,\"Phase\":3.141592653589793},{\"Real\":0.5184468776757026,\"Imaginary\":0.0,\"Magnitude\":0.5184468776757026,\"Phase\":0.0},{\"Real\":0.15211645786943617,\"Imaginary\":0.0,\"Magnitude\":0.15211645786943617,\"Phase\":0.0},{\"Real\":0.8074331721153544,\"Imaginary\":0.0,\"Magnitude\":0.8074331721153544,\"Phase\":0.0}]}",
      "text/html": [
       "\r\n",
       "                    <table style=\"table-layout: fixed; width: 100%\">\r\n",
       "                        <thead>\r\n",
       "                            \r\n",
       "                        <tr>\r\n",
       "                            <th>Qubit IDs</th>\r\n",
       "                            <td span=\"3\">0, 1</td>\r\n",
       "                        </tr>\r\n",
       "                    \r\n",
       "                            <tr>\r\n",
       "                                <th style=\"width: 20ch)\">Basis state (bitstring)</th>\r\n",
       "                                <th style=\"width: 20ch\">Amplitude</th><th style=\"width: calc(100% - 26ch - 20ch)\">Meas. Pr.</th><th style=\"width: 6ch\">Phase</th>\r\n",
       "                            </tr>\r\n",
       "                        </thead>\r\n",
       "                        <tbody>\r\n",
       "                        \r\n",
       "                            <tr>\r\n",
       "                                <td>$\\left|00\\right\\rangle$</td>\r\n",
       "                                <td>$-0.2369 + 0.0000 i$</td>\r\n",
       "                                \r\n",
       "                                <td>\r\n",
       "                                    <progress\r\n",
       "                                        max=\"100\"\r\n",
       "                                        value=\"5.6125090841307825\"\r\n",
       "                                        style=\"width: 100%;\"\r\n",
       "                                    > \r\n",
       "                                    <td>\r\n",
       "                                    <p id=\"round-79edd348-f949-4dfc-9999-6e1ec21361ba\"> \r\n",
       "                                    <script>\r\n",
       "                                    var num = 5.6125090841307825;\r\n",
       "                                    num = num.toFixed(4);\r\n",
       "                                    var num_string = num + \"%\";\r\n",
       "                                     document.getElementById(\"round-79edd348-f949-4dfc-9999-6e1ec21361ba\").innerHTML = num_string;\r\n",
       "                                    </script> </p>\r\n",
       "                                    </td>\r\n",
       "                                </td>\r\n",
       "                            \r\n",
       "                                \r\n",
       "                                <td style=\"transform: rotate(180deg);\r\n",
       "                   text-align: center;\">\r\n",
       "                                 ↑\r\n",
       "                                </td>\r\n",
       "                            \r\n",
       "                            </tr>\r\n",
       "                        \n",
       "\r\n",
       "                            <tr>\r\n",
       "                                <td>$\\left|01\\right\\rangle$</td>\r\n",
       "                                <td>$0.1521 + 0.0000 i$</td>\r\n",
       "                                \r\n",
       "                                <td>\r\n",
       "                                    <progress\r\n",
       "                                        max=\"100\"\r\n",
       "                                        value=\"2.313941675474395\"\r\n",
       "                                        style=\"width: 100%;\"\r\n",
       "                                    > \r\n",
       "                                    <td>\r\n",
       "                                    <p id=\"round-cf6b9b4a-0fde-4b08-9ad5-a188f9e4198e\"> \r\n",
       "                                    <script>\r\n",
       "                                    var num = 2.313941675474395;\r\n",
       "                                    num = num.toFixed(4);\r\n",
       "                                    var num_string = num + \"%\";\r\n",
       "                                     document.getElementById(\"round-cf6b9b4a-0fde-4b08-9ad5-a188f9e4198e\").innerHTML = num_string;\r\n",
       "                                    </script> </p>\r\n",
       "                                    </td>\r\n",
       "                                </td>\r\n",
       "                            \r\n",
       "                                \r\n",
       "                                <td style=\"transform: rotate(0deg);\r\n",
       "                   text-align: center;\">\r\n",
       "                                 ↑\r\n",
       "                                </td>\r\n",
       "                            \r\n",
       "                            </tr>\r\n",
       "                        \n",
       "\r\n",
       "                            <tr>\r\n",
       "                                <td>$\\left|10\\right\\rangle$</td>\r\n",
       "                                <td>$0.5184 + 0.0000 i$</td>\r\n",
       "                                \r\n",
       "                                <td>\r\n",
       "                                    <progress\r\n",
       "                                        max=\"100\"\r\n",
       "                                        value=\"26.878716497168497\"\r\n",
       "                                        style=\"width: 100%;\"\r\n",
       "                                    > \r\n",
       "                                    <td>\r\n",
       "                                    <p id=\"round-706dfdf6-674d-4aee-b234-4def109545a4\"> \r\n",
       "                                    <script>\r\n",
       "                                    var num = 26.878716497168497;\r\n",
       "                                    num = num.toFixed(4);\r\n",
       "                                    var num_string = num + \"%\";\r\n",
       "                                     document.getElementById(\"round-706dfdf6-674d-4aee-b234-4def109545a4\").innerHTML = num_string;\r\n",
       "                                    </script> </p>\r\n",
       "                                    </td>\r\n",
       "                                </td>\r\n",
       "                            \r\n",
       "                                \r\n",
       "                                <td style=\"transform: rotate(0deg);\r\n",
       "                   text-align: center;\">\r\n",
       "                                 ↑\r\n",
       "                                </td>\r\n",
       "                            \r\n",
       "                            </tr>\r\n",
       "                        \n",
       "\r\n",
       "                            <tr>\r\n",
       "                                <td>$\\left|11\\right\\rangle$</td>\r\n",
       "                                <td>$0.8074 + 0.0000 i$</td>\r\n",
       "                                \r\n",
       "                                <td>\r\n",
       "                                    <progress\r\n",
       "                                        max=\"100\"\r\n",
       "                                        value=\"65.19483274322636\"\r\n",
       "                                        style=\"width: 100%;\"\r\n",
       "                                    > \r\n",
       "                                    <td>\r\n",
       "                                    <p id=\"round-a27fa657-a9b4-4e0a-a5cf-c6e978f520c3\"> \r\n",
       "                                    <script>\r\n",
       "                                    var num = 65.19483274322636;\r\n",
       "                                    num = num.toFixed(4);\r\n",
       "                                    var num_string = num + \"%\";\r\n",
       "                                     document.getElementById(\"round-a27fa657-a9b4-4e0a-a5cf-c6e978f520c3\").innerHTML = num_string;\r\n",
       "                                    </script> </p>\r\n",
       "                                    </td>\r\n",
       "                                </td>\r\n",
       "                            \r\n",
       "                                \r\n",
       "                                <td style=\"transform: rotate(0deg);\r\n",
       "                   text-align: center;\">\r\n",
       "                                 ↑\r\n",
       "                                </td>\r\n",
       "                            \r\n",
       "                            </tr>\r\n",
       "                        \r\n",
       "                        </tbody>\r\n",
       "                    </table>"
      ],
      "text/plain": [
       "|00⟩\t-0.23690734653300186 + 0𝑖\n",
       "|01⟩\t0.15211645786943617 + 0𝑖\n",
       "|10⟩\t0.5184468776757026 + 0𝑖\n",
       "|11⟩\t0.8074331721153544 + 0𝑖"
      ]
     },
     "metadata": {},
     "output_type": "display_data"
    },
    {
     "data": {
      "application/x-qsharp-data": "\"Success!\"",
      "text/plain": [
       "Success!"
      ]
     },
     "execution_count": 33,
     "metadata": {},
     "output_type": "execute_result"
    }
   ],
   "source": [
    "%kata T4_ReadOperationMatrix\n",
    "\n",
    "open Microsoft.Quantum.Intrinsic;\n",
    "open Quantum.Kata.VisualizationTools; \n",
    "open Microsoft.Quantum.Diagnostics;\n",
    "\n",
    "operation ReadMysteryOperationMatrix () : Double {\n",
    "    use qs = Qubit[2];\n",
    "    \n",
    "    // this uses the DumpMachine operation after we have used\n",
    "    // unitary U on the basis state |01>\n",
    "    \n",
    "    X(qs[1]);\n",
    "    \n",
    "    MysteryOperation1(qs);\n",
    "    \n",
    "    DumpMachine();\n",
    "    \n",
    "    ResetAll(qs);\n",
    "    \n",
    "    return 0.5184;\n",
    "}"
   ]
  },
  {
   "cell_type": "markdown",
   "metadata": {},
   "source": [
    "# Display the circuit performed by the operation\n",
    "\n",
    "[Quantum circuits](https://en.wikipedia.org/wiki/Quantum_circuit) are a very common way of visualizing quantum programs; you'll see them in a lot of tutorials, papers and books on quantum computing.\n",
    "Quantum circuits are a less powerful way of expressing the quantum computation compared to a quantum program. \n",
    "They don't offer a good way to show the values of classical variables and their evolution, the decisions made based on the classical parameters or the measurement results, or even flow control structures such as loops or conditional statements.\n",
    "At the same time, they can be convenient to get a quick idea of what the program did, or to compare your implementation to the one offered in a book.\n",
    "\n",
    "[`%trace` magic command](https://docs.microsoft.com/qsharp/api/iqsharp-magic/trace) (available only in Q# Jupyter Notebooks) offers a way to trace one run of the Q# program and to build a circuit based on that execution.\n",
    "Note that these circuits include only the quantum gates executed by the program. \n",
    "They might differ in different runs of the same program, if that program takes parameters, has conditional branching or other behaviors that can change the sequence of gates applied by the program.\n",
    "\n",
    "You can pass parameters to the operation traced with `%trace` same as for `%simulate`, by adding `<parameterName>=<value>` for each parameter after the operation name.\n",
    "\n",
    "\n",
    "### <span style=\"color:blue\">Demo: Using %trace</span>\n",
    "\n",
    "Let's take a look at the circuit produced by the `MultiQubitDumpMachineDemo` operation defined earlier.\n",
    "\n",
    "> If the cell below gives you an \"Invalid operation name\" error, return to the demo [DumpMachine for multi-qubit systems](#Demo:-DumpMachine-for-multi-qubit-systems) and run it to define the operation.\n",
    "\n",
    "Try clicking on the gates that show a magnifying glass when the cursor hovers over them to see their internal implementation."
   ]
  },
  {
   "cell_type": "code",
   "execution_count": null,
   "metadata": {
    "scrolled": true
   },
   "outputs": [],
   "source": [
    "%trace MysteryOperation2 N=3"
   ]
  },
  {
   "cell_type": "markdown",
   "metadata": {},
   "source": [
    "### <span style=\"color:blue\">Exercise 5</span>: Read the trace of the operation\n",
    "\n",
    "In this task you will be interpreting the trace of an operation `MysteryOperation2` that implements a certain quantum algorithm. \n",
    "This operation will not be passed as an input to your task; you can access it by creating a separate code cell with a new operation or using `%trace` for that operation directly.\n",
    "\n",
    "`MysteryOperation2` takes a single integer named $N$ as an input.\n",
    "\n",
    "**Input:** None.\n",
    "\n",
    "**Output:** A tuple of 3 integers that describe the behavior of `MysteryOperation2` for its input $N = 3$:\n",
    "\n",
    "1. The number of qubits used by the operation (the \"width\" of the circuit).\n",
    "2. The number of Hadamard gates used by it (including adjoint Hadamard gates, which are the same as Hadamard gates).\n",
    "3. The number of CNOT gates used by it."
   ]
  },
  {
   "cell_type": "code",
   "execution_count": null,
   "metadata": {},
   "outputs": [],
   "source": [
    "%kata T5_ReadOperationTrace\n",
    "\n",
    "operation ReadMysteryOperationTrace () : (Int, Int, Int) {\n",
    "    // ...\n",
    "}"
   ]
  },
  {
   "cell_type": "markdown",
   "metadata": {},
   "source": [
    "# Run through the program execution gate by gate\n",
    "\n",
    "Finally, [`%debug` magic command](https://docs.microsoft.com/qsharp/api/iqsharp-magic/debug) (available only in Q# Jupyter Notebooks) allows you to combine tracing the program execution (as a circuit) and observing the program state at the same time.\n",
    "\n",
    "### <span style=\"color:blue\">Demo: Using %debug</span>\n",
    "\n",
    "> You cannot switch to executing a different notebook cell in the middle of the debug session.\n",
    "If you need to stop before it's complete, you can use `Kernel -> Interrupt` menu item."
   ]
  },
  {
   "cell_type": "code",
   "execution_count": null,
   "metadata": {
    "tags": [
     "timeout"
    ]
   },
   "outputs": [],
   "source": [
    "%debug MysteryOperation2 N=2"
   ]
  },
  {
   "cell_type": "markdown",
   "metadata": {},
   "source": [
    "## Conclusion\n",
    "\n",
    "We hope you've learned a lot from this tutorial.\n",
    "With these tools you're well equipped to continue your quantum computing journey!"
   ]
  }
 ],
 "metadata": {
  "kernelspec": {
   "display_name": "Q#",
   "language": "qsharp",
   "name": "iqsharp"
  },
  "language_info": {
   "file_extension": ".qs",
   "mimetype": "text/x-qsharp",
   "name": "qsharp",
   "version": "0.14"
  }
 },
 "nbformat": 4,
 "nbformat_minor": 2
}
