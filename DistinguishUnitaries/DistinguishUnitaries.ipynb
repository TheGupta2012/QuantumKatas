{
 "cells": [
  {
   "cell_type": "markdown",
   "metadata": {},
   "source": [
    "# Distinguish Unitaries Kata\n",
    "\n",
    "The **Distinguish Unitaries** quantum kata offers tasks in which you are given a unitary and have to figure out which of the list it is by designing and performing experiments on it.\n",
    "\n",
    "Each task is wrapped in one operation preceded by the description of the task.\n",
    "Your goal is to fill in the blank (marked with `// ...` comments)\n",
    "with some Q# code that solves the task. To verify your answer, run the cell using Ctrl+Enter (⌘+Enter on macOS).\n",
    "\n",
    "The tasks are given in approximate order of increasing difficulty; harder ones are marked with asterisks."
   ]
  },
  {
   "cell_type": "markdown",
   "metadata": {},
   "source": [
    "## Part I. Single-Qubit Gates"
   ]
  },
  {
   "cell_type": "markdown",
   "metadata": {},
   "source": [
    "### Task 1.1. Identity or Pauli X?\n",
    "\n",
    "**Input:** An operation that implements a single-qubit unitary transformation:\n",
    "either the identity (**I** gate)\n",
    "or the Pauli X gate (**X** gate). \n",
    "The operation will have Adjoint and Controlled variants defined.\n",
    "\n",
    "**Output:**  0 if the given operation is the **I** gate, 1 if the given operation is the **X** gate.\n",
    "\n",
    "You are allowed to apply the given operation and its adjoint/controlled variants exactly **once**."
   ]
  },
  {
   "cell_type": "code",
   "execution_count": null,
   "metadata": {
    "ExecuteTime": {
     "start_time": "2021-11-14T07:42:59.371Z"
    }
   },
   "outputs": [
    {
     "data": {
      "application/x-qsharp-data": "\"Success!\"",
      "text/plain": [
       "Success!"
      ]
     },
     "execution_count": 4,
     "metadata": {},
     "output_type": "execute_result"
    }
   ],
   "source": [
    "%kata T101_DistinguishIfromX \n",
    "\n",
    "operation DistinguishIfromX (unitary : (Qubit => Unit is Adj+Ctl)) : Int {\n",
    "    // apply on a Qubit \n",
    "    use q = Qubit();\n",
    "    \n",
    "    unitary(q); // nice, unitary is applied like this only\n",
    "    \n",
    "    let result = M(q);\n",
    "    \n",
    "    if(result == Zero){\n",
    "        return 0;\n",
    "    }\n",
    "    else {\n",
    "        return 1;\n",
    "    }\n",
    "}"
   ]
  },
  {
   "cell_type": "markdown",
   "metadata": {},
   "source": [
    "*Can't come up with a solution? See the explained solution in the [Distinguish Unitaries Workbook](./Workbook_DistinguishUnitaries.ipynb#Task-1.1.-Identity-or-Pauli-X?).*"
   ]
  },
  {
   "cell_type": "markdown",
   "metadata": {},
   "source": [
    "### Task 1.2. Identity or Pauli Z?\n",
    "\n",
    "**Input:** An operation that implements a single-qubit unitary transformation:\n",
    "either the identity (**I** gate)\n",
    "or the Pauli Z gate (**Z** gate). \n",
    "The operation will have Adjoint and Controlled variants defined.\n",
    "\n",
    "**Output:**  0 if the given operation is the **I** gate, 1 if the given operation is the **Z** gate.\n",
    "\n",
    "You are allowed to apply the given operation and its adjoint/controlled variants exactly **once**."
   ]
  },
  {
   "cell_type": "code",
   "execution_count": null,
   "metadata": {
    "ExecuteTime": {
     "start_time": "2021-11-14T07:52:58.279Z"
    }
   },
   "outputs": [
    {
     "data": {
      "application/x-qsharp-data": "\"Success!\"",
      "text/plain": [
       "Success!"
      ]
     },
     "execution_count": 5,
     "metadata": {},
     "output_type": "execute_result"
    }
   ],
   "source": [
    "%kata T102_DistinguishIfromZ \n",
    "\n",
    "open Microsoft.Quantum.Intrinsic; \n",
    "\n",
    "operation DistinguishIfromZ (unitary : (Qubit => Unit is Adj+Ctl)) : Int {\n",
    "    use q = Qubit();\n",
    "    \n",
    "    // make into a + or - state\n",
    "    \n",
    "    H(q);\n",
    "    \n",
    "    // now apply unitary\n",
    "    unitary(q);\n",
    "    \n",
    "    // measure along the x basis \n",
    "    \n",
    "    // just rotate back to the Z axis \n",
    "    \n",
    "    H(q);\n",
    "     \n",
    "    let result = M(q) == Zero ? 0 | 1;\n",
    "    \n",
    "    \n",
    "    return result;\n",
    "}"
   ]
  },
  {
   "cell_type": "markdown",
   "metadata": {},
   "source": [
    "*Can't come up with a solution? See the explained solution in the [Distinguish Unitaries Workbook](./Workbook_DistinguishUnitaries.ipynb#Task-1.2.-Identity-or-Pauli-Z?).*"
   ]
  },
  {
   "cell_type": "markdown",
   "metadata": {},
   "source": [
    "### Task 1.3. Z or S?\n",
    "\n",
    "**Input:** An operation that implements a single-qubit unitary transformation:\n",
    "either the **Z** gate\n",
    "or the **S** gate. \n",
    "The operation will have Adjoint and Controlled variants defined.\n",
    "\n",
    "**Output:**  0 if the given operation is the **Z** gate, 1 if the given operation is the **S** gate.\n",
    "\n",
    "You are allowed to apply the given operation and its adjoint/controlled variants at most **twice**."
   ]
  },
  {
   "cell_type": "code",
   "execution_count": null,
   "metadata": {
    "ExecuteTime": {
     "start_time": "2021-11-14T08:00:04.917Z"
    }
   },
   "outputs": [
    {
     "data": {
      "application/x-qsharp-data": "\"Success!\"",
      "text/plain": [
       "Success!"
      ]
     },
     "execution_count": 6,
     "metadata": {},
     "output_type": "execute_result"
    }
   ],
   "source": [
    "%kata T103_DistinguishZfromS \n",
    "\n",
    "operation DistinguishZfromS (unitary : (Qubit => Unit is Adj+Ctl)) : Int {\n",
    "    use q = Qubit();\n",
    "    \n",
    "    // transform to the Hadamard basis\n",
    "    H(q);\n",
    "    \n",
    "    // apply unitary twice\n",
    "    unitary(q);\n",
    "    \n",
    "    unitary(q);\n",
    "    \n",
    "    \n",
    "    // measure along the X axis \n",
    "    \n",
    "    H(q);\n",
    "    \n",
    "    let result = M(q) == Zero ? 0 | 1;\n",
    "    \n",
    "    return result;\n",
    "    \n",
    "}"
   ]
  },
  {
   "cell_type": "markdown",
   "metadata": {},
   "source": [
    "*Can't come up with a solution? See the explained solution in the [Distinguish Unitaries Workbook](./Workbook_DistinguishUnitaries.ipynb#Task-1.3.-Z-or-S?).*"
   ]
  },
  {
   "cell_type": "markdown",
   "metadata": {},
   "source": [
    "### Task 1.4. Hadamard or X?\n",
    "\n",
    "**Input:** An operation that implements a single-qubit unitary transformation:\n",
    "either the Hadamard (**H**) gate\n",
    "or the **X** gate. \n",
    "The operation will have Adjoint and Controlled variants defined.\n",
    "\n",
    "**Output:**  0 if the given operation is the **H** gate, 1 if the given operation is the **X** gate.\n",
    "\n",
    "You are allowed to apply the given operation and its adjoint/controlled variants at most **twice**."
   ]
  },
  {
   "cell_type": "code",
   "execution_count": null,
   "metadata": {
    "ExecuteTime": {
     "start_time": "2021-11-14T08:07:13.091Z"
    },
    "scrolled": true
   },
   "outputs": [
    {
     "data": {
      "application/x-qsharp-data": "\"Success!\"",
      "text/plain": [
       "Success!"
      ]
     },
     "execution_count": 7,
     "metadata": {},
     "output_type": "execute_result"
    }
   ],
   "source": [
    "%kata T104_DistinguishHfromX \n",
    "\n",
    "operation DistinguishHfromX (unitary : (Qubit => Unit is Adj+Ctl)) : Int {\n",
    "    // U(Z(U(q))) allows to identify \n",
    "    \n",
    "    use q = Qubit();\n",
    "    \n",
    "    unitary(q);\n",
    "    Z(q);\n",
    "    unitary(q);\n",
    "    \n",
    "    // if zero, then X gate, else H gate \n",
    "    \n",
    "    let result = M(q) == Zero ? 0 | 1;\n",
    "    \n",
    "    return 1 - result; // mapping in the function is different\n",
    "}"
   ]
  },
  {
   "cell_type": "markdown",
   "metadata": {},
   "source": [
    "*Can't come up with a solution? See the explained solution in the [Distinguish Unitaries Workbook](./Workbook_DistinguishUnitaries.ipynb#Task-1.4.-Hadamard-or-X?).*"
   ]
  },
  {
   "cell_type": "markdown",
   "metadata": {},
   "source": [
    "### Task 1.5. Z or $-$Z?\n",
    "\n",
    "**Input:** An operation that implements a single-qubit unitary transformation:\n",
    "either the **Z** gate\n",
    "or the minus **Z** gate (i.e., the gate $- |0\\rangle\\langle0| + |1\\rangle\\langle1|$). \n",
    "The operation will have Adjoint and Controlled variants defined.\n",
    "\n",
    "**Output:**  0 if the given operation is the **Z** gate, 1 if the given operation is the $-$**Z** gate.\n",
    "\n",
    "You are allowed to apply the given operation and its adjoint/controlled variants exactly **once**."
   ]
  },
  {
   "cell_type": "code",
   "execution_count": null,
   "metadata": {
    "ExecuteTime": {
     "start_time": "2021-11-14T08:27:12.878Z"
    }
   },
   "outputs": [
    {
     "data": {
      "application/x-qsharp-data": "\"Success!\"",
      "text/plain": [
       "Success!"
      ]
     },
     "execution_count": 8,
     "metadata": {},
     "output_type": "execute_result"
    }
   ],
   "source": [
    "%kata T105_DistinguishZfromMinusZ \n",
    "\n",
    "operation DistinguishZfromMinusZ (unitary : (Qubit => Unit is Adj+Ctl)) : Int {\n",
    "    use qs = Qubit[2];\n",
    "    \n",
    "    // qs[0] is the control qubit \n",
    "    \n",
    "    H(qs[0]);\n",
    "    \n",
    "    // add the controlled version \n",
    "    \n",
    "    Controlled unitary([qs[0]], qs[1]);\n",
    "    \n",
    "    // put qs[0] back \n",
    "    H(qs[0]);\n",
    "    \n",
    "    // if qs[0] is zero, it was Z. Return 0, else 1 \n",
    "    \n",
    "    return M(qs[0]) == Zero ? 0 | 1;\n",
    "}"
   ]
  },
  {
   "cell_type": "markdown",
   "metadata": {},
   "source": [
    "*Can't come up with a solution? See the explained solution in the [Distinguish Unitaries Workbook](./Workbook_DistinguishUnitaries.ipynb#Task-1.5.-Z-or-$-$Z?).*"
   ]
  },
  {
   "cell_type": "markdown",
   "metadata": {},
   "source": [
    "### Task 1.6. Rz or R1 (arbitrary angle)?\n",
    "\n",
    "**Input:** An operation that implements a single-qubit unitary transformation:\n",
    "either the [**Rz** gate](https://docs.microsoft.com/qsharp/api/qsharp/microsoft.quantum.intrinsic.rz)\n",
    "or the [**R1** gate](https://docs.microsoft.com/qsharp/api/qsharp/microsoft.quantum.intrinsic.r1). \n",
    "\n",
    "This operation will take two parameters: the first parameter is the rotation angle, in radians, and the second parameter is the qubit to which the gate should be applied (matching normal **Rz** and **R1** gates in Q#).\n",
    "The operation will have Adjoint and Controlled variants defined.\n",
    "\n",
    "**Output:**  0 if the given operation is the **Rz** gate, 1 if the given operation is the **R1** gate.\n",
    "\n",
    "You are allowed to apply the given operation and its adjoint/controlled variants exactly **once**."
   ]
  },
  {
   "cell_type": "code",
   "execution_count": null,
   "metadata": {
    "ExecuteTime": {
     "start_time": "2021-11-14T08:54:01.183Z"
    }
   },
   "outputs": [
    {
     "data": {
      "application/x-qsharp-data": "\"Success!\"",
      "text/plain": [
       "Success!"
      ]
     },
     "execution_count": 13,
     "metadata": {},
     "output_type": "execute_result"
    }
   ],
   "source": [
    "%kata T106_DistinguishRzFromR1 \n",
    "\n",
    "open Microsoft.Quantum.Math;\n",
    "\n",
    "operation DistinguishRzFromR1 (unitary : ((Double, Qubit) => Unit is Adj+Ctl)) : Int {\n",
    "    \n",
    "    // again, use phase kickback to identify the phase differences \n",
    "    \n",
    "    use qs = Qubit[2];\n",
    "    \n",
    "    // use 0 as control superposition\n",
    "    H(qs[0]);\n",
    "    \n",
    "    let theta = 2.0*PI();\n",
    "    \n",
    "    Controlled unitary([qs[0]], (theta,qs[1]));\n",
    "    \n",
    "    H(qs[0]);\n",
    "    \n",
    "    // measure the control qubit \n",
    "    \n",
    "    let result = M(qs[0]) == Zero ? 0 | 1;\n",
    "    \n",
    "    // if the measurment was zero then it would \n",
    "    // have been CR1 else Rz\n",
    "\n",
    "    // YEP!\n",
    "\n",
    "    return 1 - result; //reverse mapping in the function\n",
    "}"
   ]
  },
  {
   "cell_type": "markdown",
   "metadata": {},
   "source": [
    "*Can't come up with a solution? See the explained solution in the [Distinguish Unitaries Workbook](./Workbook_DistinguishUnitaries.ipynb#Task-1.6.-Rz-or-R1-(arbitrary-angle)?).*"
   ]
  },
  {
   "cell_type": "markdown",
   "metadata": {},
   "source": [
    "### Task 1.7. Y or XZ?\n",
    "\n",
    "**Input:** An operation that implements a single-qubit unitary transformation:\n",
    "either the **Y** gate\n",
    "or the sequence of Pauli **Z** and Pauli **X** gates (equivalent to applying the **Z** gate followed by the **X** gate).\n",
    "The operation will have Adjoint and Controlled variants defined.\n",
    "\n",
    "**Output:**  0 if the given operation is the **Y** gate, 1 if the given operation is the **XZ** gate.\n",
    "\n",
    "You are allowed to apply the given operation and its adjoint/controlled variants at most **twice**."
   ]
  },
  {
   "cell_type": "code",
   "execution_count": null,
   "metadata": {
    "ExecuteTime": {
     "start_time": "2021-11-14T12:56:28.331Z"
    }
   },
   "outputs": [
    {
     "data": {
      "application/x-qsharp-data": "\"Success!\"",
      "text/plain": [
       "Success!"
      ]
     },
     "execution_count": 5,
     "metadata": {},
     "output_type": "execute_result"
    }
   ],
   "source": [
    "%kata T107_DistinguishYfromXZ \n",
    "\n",
    "operation DistinguishYfromXZ (unitary : (Qubit => Unit is Adj+Ctl)) : Int {\n",
    "    // first make eigenvector of Y in a qubit\n",
    "    \n",
    "    use qs = Qubit[2];\n",
    "    \n",
    "    H(qs[1]);\n",
    "    S(qs[1]); \n",
    "    \n",
    "    // now put control in superposition \n",
    "    \n",
    "    H(qs[0]);\n",
    "    \n",
    "    // needs two phase kickbacks for making it distinguishable\n",
    "    Controlled unitary([qs[0]], qs[1]);\n",
    "    Controlled unitary([qs[0]], qs[1]);\n",
    "    \n",
    "    // now perform hadamard transform\n",
    "    H(qs[0]);\n",
    "    \n",
    "    // measure and return \n",
    "    \n",
    "    let result =  (M(qs[0]) == Zero) ? 0 | 1;\n",
    "    \n",
    "    // correct!\n",
    "    ResetAll(qs);\n",
    "    return result;\n",
    "    \n",
    "}"
   ]
  },
  {
   "cell_type": "markdown",
   "metadata": {},
   "source": [
    "*Can't come up with a solution? See the explained solution in the [Distinguish Unitaries Workbook](./Workbook_DistinguishUnitaries.ipynb#Task-1.7.-Y-or-XZ?).*"
   ]
  },
  {
   "cell_type": "markdown",
   "metadata": {},
   "source": [
    "### Task 1.8. Y, XZ, $-$Y or $-$XZ?\n",
    "\n",
    "**Input:** An operation that implements a single-qubit unitary transformation:\n",
    "either the **Y** gate (possibly with an extra global phase of $-1$) or the sequence of Pauli **Z** and Pauli **X** gates (possibly with an extra global phase of $-1$).\n",
    "The operation will have Adjoint and Controlled variants defined.\n",
    "\n",
    "**Output:** \n",
    "* 0 if the given operation is the **Y** gate,\n",
    "* 1 if the given operation is the $-$**XZ** gate,\n",
    "* 2 if the given operation is the $-$**Y** gate,\n",
    "* 3 if the given operation is the **XZ** gate.\n",
    "\n",
    "You are allowed to apply the given operation and its adjoint/controlled variants at most **three times**."
   ]
  },
  {
   "cell_type": "code",
   "execution_count": null,
   "metadata": {
    "ExecuteTime": {
     "start_time": "2021-11-14T13:20:44.604Z"
    }
   },
   "outputs": [
    {
     "data": {
      "application/x-qsharp-data": "\"Success!\"",
      "text/plain": [
       "Success!"
      ]
     },
     "execution_count": 8,
     "metadata": {},
     "output_type": "execute_result"
    }
   ],
   "source": [
    "%kata T108_DistinguishYfromXZWithPhases \n",
    "\n",
    "operation DistinguishYfromXZWithPhases (unitary : (Qubit => Unit is Adj+Ctl)) : Int {\n",
    "    \n",
    "    // again two qubits required\n",
    "    \n",
    "    use qs = Qubit[2];\n",
    "    \n",
    "    // make the eigvector for the Y gate in qs[1]\n",
    "    \n",
    "    H(qs[1]);\n",
    "    S(qs[1]);\n",
    "    \n",
    "    // make the superposition for control \n",
    "    H(qs[0]);\n",
    "    \n",
    "    // apply twice \n",
    "    \n",
    "    Controlled unitary([qs[0]], qs[1]);\n",
    "    Controlled unitary([qs[0]], qs[1]);\n",
    "    \n",
    "    // now hadamard and measure\n",
    "    \n",
    "    H(qs[0]);\n",
    "    \n",
    "    let r1 = M(qs[0]) == Zero ? 0 | 1;\n",
    "    \n",
    "    // resest and hadamard qs[0] for next stage \n",
    "    Reset(qs[0]);\n",
    "    H(qs[0]);\n",
    "    \n",
    "    \n",
    "    mutable result = -1;\n",
    "    \n",
    "    if(r1 == 0){\n",
    "        // means maybe Y or -Y\n",
    "        Controlled unitary([qs[0]], qs[1]);\n",
    "        \n",
    "        H(qs[0]);\n",
    "        \n",
    "        let r2 = M(qs[0]) == Zero ? 0 | 1;\n",
    "        \n",
    "        if(r2 == 0){\n",
    "            set result = 0;\n",
    "        }\n",
    "        else{\n",
    "            set result = 2;\n",
    "        }\n",
    "    }\n",
    "    else{\n",
    "    \n",
    "    // means maybe XZ -> -iY, -XZ -> iY\n",
    "        // make the correct superposition \n",
    "        \n",
    "        S(qs[0]);\n",
    "        \n",
    "        Controlled unitary([qs[0]], qs[1]);\n",
    "        \n",
    "        H(qs[0]);\n",
    "        \n",
    "        let r2 = M(qs[0]) == Zero ? 0 | 1;\n",
    "        \n",
    "        if(r2 == 0){\n",
    "            set result = 3;\n",
    "        }\n",
    "        else{\n",
    "            set result = 1;\n",
    "        }\n",
    "        \n",
    "    }\n",
    "    \n",
    "    ResetAll(qs);\n",
    "    \n",
    "    return result;\n",
    "    \n",
    "}"
   ]
  },
  {
   "cell_type": "markdown",
   "metadata": {},
   "source": [
    "*Can't come up with a solution? See the explained solution in the [Distinguish Unitaries Workbook](./Workbook_DistinguishUnitaries.ipynb#Task-1.8.-Y,-XZ,-$-$Y-or-$-$XZ?).*"
   ]
  },
  {
   "cell_type": "markdown",
   "metadata": {},
   "source": [
    "### Task 1.9. Rz or Ry (fixed angle)?\n",
    "\n",
    "**Inputs:** \n",
    "\n",
    "1. An angle $\\theta \\in [0.01 \\pi; 0.99 \\pi]$.\n",
    "2. An operation that implements a single-qubit unitary transformation:\n",
    "either the [$R_z(\\theta)$ gate](https://docs.microsoft.com/qsharp/api/qsharp/microsoft.quantum.intrinsic.rz)\n",
    "or the [$R_y(\\theta)$ gate](https://docs.microsoft.com/qsharp/api/qsharp/microsoft.quantum.intrinsic.ry). \n",
    "\n",
    "The operation will have Adjoint and Controlled variants defined.\n",
    "\n",
    "**Output:**  0 if the given operation is the **Rz** gate, 1 if the given operation is the **Ry** gate.\n",
    "\n",
    "You are allowed to apply the given operation and its adjoint/controlled variants **any number of times**."
   ]
  },
  {
   "cell_type": "code",
   "execution_count": null,
   "metadata": {
    "ExecuteTime": {
     "start_time": "2021-11-18T12:02:06.729Z"
    }
   },
   "outputs": [
    {
     "data": {
      "application/x-qsharp-data": "[\"get_application_times\"]",
      "text/html": [
       "<ul><li>get_application_times</li></ul>"
      ],
      "text/plain": [
       "get_application_times"
      ]
     },
     "execution_count": 7,
     "metadata": {},
     "output_type": "execute_result"
    }
   ],
   "source": [
    "open Microsoft.Quantum.Convert;\n",
    "open Microsoft.Quantum.Math;\n",
    "\n",
    "function get_application_times(theta : Double) : Int{\n",
    "\n",
    "    mutable k = 0.0;\n",
    "    \n",
    "    while (true) {\n",
    "        // find the value for this k value\n",
    "        let actual_times = (2.0*k + 1.0) * (PI() / theta);\n",
    "        \n",
    "        // find the actual int factor\n",
    "        let times = Round(actual_times);\n",
    "        \n",
    "        if(AbsD(actual_times - IntAsDouble(times)) < 0.05){\n",
    "            return times;\n",
    "        }\n",
    "        set k = k + 1.0;\n",
    "    }\n",
    "    return 0;\n",
    "}"
   ]
  },
  {
   "cell_type": "code",
   "execution_count": null,
   "metadata": {
    "ExecuteTime": {
     "start_time": "2021-11-18T12:02:18.915Z"
    },
    "scrolled": true
   },
   "outputs": [
    {
     "data": {
      "application/x-qsharp-data": "\"Success!\"",
      "text/plain": [
       "Success!"
      ]
     },
     "execution_count": 8,
     "metadata": {},
     "output_type": "execute_result"
    }
   ],
   "source": [
    "%kata T109_DistinguishRzFromRy \n",
    "\n",
    "open Microsoft.Quantum.Math;\n",
    "open Microsoft.Quantum.Convert;\n",
    "\n",
    "\n",
    "operation DistinguishRzFromRy (theta : Double, unitary : (Qubit => Unit is Adj+Ctl)) : Int {\n",
    "    // don't really think theta is required\n",
    "    use q = Qubit();\n",
    "    \n",
    "    // find the number of rotations required to make the theta as odd multiple of pi \n",
    "    \n",
    "    let times = get_application_times(theta);\n",
    "    \n",
    "    mutable ones = false;\n",
    "    \n",
    "    for attempts in 1 .. 4{\n",
    "    \n",
    "        Reset(q);\n",
    "        \n",
    "        // apply the unitary\n",
    "        for i in 1 .. times{\n",
    "            unitary(q);\n",
    "        }\n",
    "        \n",
    "        // measure\n",
    "        let result = M(q);\n",
    "        \n",
    "        if(result == One){\n",
    "            set ones = true;\n",
    "        }\n",
    "        \n",
    "    }\n",
    "    // ones is only ever false when gate is Rz\n",
    "    \n",
    "    return ones == false ? 0 | 1;\n",
    "}"
   ]
  },
  {
   "cell_type": "markdown",
   "metadata": {},
   "source": [
    "*Can't come up with a solution? See the explained solution in the [Distinguish Unitaries Workbook](./Workbook_DistinguishUnitaries.ipynb#Task-1.9.-Rz-or-Ry-(fixed-angle)?).*"
   ]
  },
  {
   "cell_type": "markdown",
   "metadata": {},
   "source": [
    "### Task 1.10*. Rz or R1 (fixed angle)?\n",
    "\n",
    "**Inputs:** \n",
    "\n",
    "1. An angle $\\theta \\in [0.01 \\pi; 0.99 \\pi]$.\n",
    "2. An operation that implements a single-qubit unitary transformation:\n",
    "either the [$R_z(\\theta)$ gate](https://docs.microsoft.com/qsharp/api/qsharp/microsoft.quantum.intrinsic.rz)\n",
    "or the [$R_1(\\theta)$ gate](https://docs.microsoft.com/qsharp/api/qsharp/microsoft.quantum.intrinsic.r1). \n",
    "\n",
    "The operation will have Adjoint and Controlled variants defined.\n",
    "\n",
    "**Output:**  0 if the given operation is the **Rz** gate, 1 if the given operation is the **R1** gate.\n",
    "\n",
    "You are allowed to apply the given operation and its adjoint/controlled variants **any number of times**."
   ]
  },
  {
   "cell_type": "code",
   "execution_count": null,
   "metadata": {
    "scrolled": true
   },
   "outputs": [],
   "source": [
    "%kata T110_DistinguishRzFromR1WithAngle \n",
    "\n",
    "operation DistinguishRzFromR1WithAngle (theta : Double, unitary : (Qubit => Unit is Adj+Ctl)) : Int {\n",
    "    // ...\n",
    "    return -1;\n",
    "}"
   ]
  },
  {
   "cell_type": "markdown",
   "metadata": {},
   "source": [
    "### Task 1.11. Distinguish 4 Pauli unitaries\n",
    "\n",
    "**Input:** An operation that implements a single-qubit unitary transformation:\n",
    "either the identity (**I** gate) or one of the Pauli gates (**X**, **Y** or **Z** gate).\n",
    "The operation will have Adjoint and Controlled variants defined.\n",
    "\n",
    "**Output:** \n",
    "* 0 if the given operation is the **I** gate,\n",
    "* 1 if the given operation is the **X** gate,\n",
    "* 2 if the given operation is the **Y** gate,\n",
    "* 3 if the given operation is the **Z** gate.\n",
    "\n",
    "You are allowed to apply the given operation and its adjoint/controlled variants exactly **once**."
   ]
  },
  {
   "cell_type": "code",
   "execution_count": null,
   "metadata": {
    "ExecuteTime": {
     "start_time": "2021-11-17T12:04:07.652Z"
    },
    "scrolled": true
   },
   "outputs": [
    {
     "name": "stdout",
     "output_type": "stream",
     "text": [
      "Result is : [Zero,Zero]\n",
      "As int it is : 0\n",
      "We have ID!\n",
      "Result is : [One,Zero]\n",
      "As int it is : 1\n",
      "We have Z!\n",
      "Result is : [One,One]\n",
      "As int it is : 3\n",
      "We have Y!\n",
      "Result is : [Zero,Zero]\n",
      "As int it is : 0\n",
      "We have ID!\n",
      "Result is : [Zero,Zero]\n",
      "As int it is : 0\n",
      "We have ID!\n",
      "Result is : [Zero,Zero]\n",
      "As int it is : 0\n",
      "We have ID!\n",
      "Result is : [Zero,Zero]\n",
      "As int it is : 0\n",
      "We have ID!\n",
      "Result is : [One,One]\n",
      "As int it is : 3\n",
      "We have Y!\n",
      "Result is : [One,One]\n",
      "As int it is : 3\n",
      "We have Y!\n",
      "Result is : [One,One]\n",
      "As int it is : 3\n",
      "We have Y!\n",
      "Result is : [Zero,Zero]\n",
      "As int it is : 0\n",
      "We have ID!\n",
      "Result is : [One,One]\n",
      "As int it is : 3\n",
      "We have Y!\n",
      "Result is : [Zero,One]\n",
      "As int it is : 2\n",
      "We have X!\n",
      "Result is : [One,Zero]\n",
      "As int it is : 1\n",
      "We have Z!\n",
      "Result is : [One,Zero]\n",
      "As int it is : 1\n",
      "We have Z!\n",
      "Result is : [One,Zero]\n",
      "As int it is : 1\n",
      "We have Z!\n",
      "Result is : [Zero,Zero]\n",
      "As int it is : 0\n",
      "We have ID!\n",
      "Result is : [One,Zero]\n",
      "As int it is : 1\n",
      "We have Z!\n",
      "Result is : [One,One]\n",
      "As int it is : 3\n",
      "We have Y!\n",
      "Result is : [One,One]\n",
      "As int it is : 3\n",
      "We have Y!\n",
      "Result is : [One,Zero]\n",
      "As int it is : 1\n",
      "We have Z!\n",
      "Result is : [One,One]\n",
      "As int it is : 3\n",
      "We have Y!\n",
      "Result is : [Zero,Zero]\n",
      "As int it is : 0\n",
      "We have ID!\n",
      "Result is : [Zero,Zero]\n",
      "As int it is : 0\n",
      "We have ID!\n",
      "Result is : [One,Zero]\n",
      "As int it is : 1\n",
      "We have Z!\n",
      "Result is : [Zero,One]\n",
      "As int it is : 2\n",
      "We have X!\n",
      "Result is : [One,One]\n",
      "As int it is : 3\n",
      "We have Y!\n",
      "Result is : [Zero,Zero]\n",
      "As int it is : 0\n",
      "We have ID!\n",
      "Result is : [One,One]\n",
      "As int it is : 3\n",
      "We have Y!\n",
      "Result is : [Zero,Zero]\n",
      "As int it is : 0\n",
      "We have ID!\n",
      "Result is : [Zero,Zero]\n",
      "As int it is : 0\n",
      "We have ID!\n",
      "Result is : [One,Zero]\n",
      "As int it is : 1\n",
      "We have Z!\n",
      "Result is : [One,One]\n",
      "As int it is : 3\n",
      "We have Y!\n",
      "Result is : [One,One]\n",
      "As int it is : 3\n",
      "We have Y!\n",
      "Result is : [One,One]\n",
      "As int it is : 3\n",
      "We have Y!\n",
      "Result is : [Zero,Zero]\n",
      "As int it is : 0\n",
      "We have ID!\n",
      "Result is : [One,One]\n",
      "As int it is : 3\n",
      "We have Y!\n",
      "Result is : [One,One]\n",
      "As int it is : 3\n",
      "We have Y!\n",
      "Result is : [One,Zero]\n",
      "As int it is : 1\n",
      "We have Z!\n",
      "Result is : [One,One]\n",
      "As int it is : 3\n",
      "We have Y!\n",
      "Result is : [Zero,One]\n",
      "As int it is : 2\n",
      "We have X!\n",
      "Result is : [Zero,One]\n",
      "As int it is : 2\n",
      "We have X!\n",
      "Result is : [One,Zero]\n",
      "As int it is : 1\n",
      "We have Z!\n",
      "Result is : [One,Zero]\n",
      "As int it is : 1\n",
      "We have Z!\n",
      "Result is : [Zero,Zero]\n",
      "As int it is : 0\n",
      "We have ID!\n",
      "Result is : [One,One]\n",
      "As int it is : 3\n",
      "We have Y!\n",
      "Result is : [One,Zero]\n",
      "As int it is : 1\n",
      "We have Z!\n",
      "Result is : [One,One]\n",
      "As int it is : 3\n",
      "We have Y!\n",
      "Result is : [Zero,One]\n",
      "As int it is : 2\n",
      "We have X!\n",
      "Result is : [Zero,One]\n",
      "As int it is : 2\n",
      "We have X!\n",
      "Result is : [One,One]\n",
      "As int it is : 3\n",
      "We have Y!\n",
      "Result is : [Zero,One]\n",
      "As int it is : 2\n",
      "We have X!\n",
      "Result is : [Zero,One]\n",
      "As int it is : 2\n",
      "We have X!\n",
      "Result is : [Zero,Zero]\n",
      "As int it is : 0\n",
      "We have ID!\n",
      "Result is : [Zero,Zero]\n",
      "As int it is : 0\n",
      "We have ID!\n",
      "Result is : [Zero,Zero]\n",
      "As int it is : 0\n",
      "We have ID!\n",
      "Result is : [One,Zero]\n",
      "As int it is : 1\n",
      "We have Z!\n",
      "Result is : [Zero,One]\n",
      "As int it is : 2\n",
      "We have X!\n",
      "Result is : [One,One]\n",
      "As int it is : 3\n",
      "We have Y!\n",
      "Result is : [One,One]\n",
      "As int it is : 3\n",
      "We have Y!\n",
      "Result is : [One,One]\n",
      "As int it is : 3\n",
      "We have Y!\n",
      "Result is : [One,One]\n",
      "As int it is : 3\n",
      "We have Y!\n",
      "Result is : [Zero,One]\n",
      "As int it is : 2\n",
      "We have X!\n",
      "Result is : [Zero,Zero]\n",
      "As int it is : 0\n",
      "We have ID!\n",
      "Result is : [One,One]\n",
      "As int it is : 3\n",
      "We have Y!\n",
      "Result is : [One,Zero]\n",
      "As int it is : 1\n",
      "We have Z!\n",
      "Result is : [Zero,Zero]\n",
      "As int it is : 0\n",
      "We have ID!\n",
      "Result is : [One,Zero]\n",
      "As int it is : 1\n",
      "We have Z!\n",
      "Result is : [Zero,Zero]\n",
      "As int it is : 0\n",
      "We have ID!\n",
      "Result is : [Zero,One]\n",
      "As int it is : 2\n",
      "We have X!\n",
      "Result is : [Zero,Zero]\n",
      "As int it is : 0\n",
      "We have ID!\n",
      "Result is : [One,Zero]\n",
      "As int it is : 1\n",
      "We have Z!\n",
      "Result is : [One,Zero]\n",
      "As int it is : 1\n",
      "We have Z!\n",
      "Result is : [One,Zero]\n",
      "As int it is : 1\n",
      "We have Z!\n",
      "Result is : [Zero,Zero]\n",
      "As int it is : 0\n",
      "We have ID!\n",
      "Result is : [Zero,One]\n",
      "As int it is : 2\n",
      "We have X!\n",
      "Result is : [Zero,One]\n",
      "As int it is : 2\n",
      "We have X!\n",
      "Result is : [Zero,Zero]\n",
      "As int it is : 0\n",
      "We have ID!\n",
      "Result is : [One,One]\n",
      "As int it is : 3\n",
      "We have Y!\n",
      "Result is : [Zero,One]\n",
      "As int it is : 2\n",
      "We have X!\n",
      "Result is : [Zero,One]\n",
      "As int it is : 2\n",
      "We have X!\n",
      "Result is : [One,Zero]\n",
      "As int it is : 1\n",
      "We have Z!\n",
      "Result is : [One,One]\n",
      "As int it is : 3\n",
      "We have Y!\n",
      "Result is : [Zero,One]\n",
      "As int it is : 2\n",
      "We have X!\n",
      "Result is : [Zero,Zero]\n",
      "As int it is : 0\n",
      "We have ID!\n",
      "Result is : [Zero,One]\n",
      "As int it is : 2\n",
      "We have X!\n",
      "Result is : [One,One]\n",
      "As int it is : 3\n",
      "We have Y!\n",
      "Result is : [One,One]\n",
      "As int it is : 3\n",
      "We have Y!\n",
      "Result is : [Zero,One]\n",
      "As int it is : 2\n",
      "We have X!\n",
      "Result is : [One,Zero]\n",
      "As int it is : 1\n",
      "We have Z!\n",
      "Result is : [One,One]\n",
      "As int it is : 3\n",
      "We have Y!\n",
      "Result is : [Zero,Zero]\n",
      "As int it is : 0\n",
      "We have ID!\n",
      "Result is : [One,Zero]\n",
      "As int it is : 1\n",
      "We have Z!\n",
      "Result is : [One,One]\n",
      "As int it is : 3\n",
      "We have Y!\n",
      "Result is : [Zero,One]\n",
      "As int it is : 2\n",
      "We have X!\n",
      "Result is : [Zero,Zero]\n",
      "As int it is : 0\n",
      "We have ID!\n",
      "Result is : [Zero,Zero]\n",
      "As int it is : 0\n",
      "We have ID!\n",
      "Result is : [Zero,One]\n",
      "As int it is : 2\n",
      "We have X!\n",
      "Result is : [One,Zero]\n",
      "As int it is : 1\n",
      "We have Z!\n",
      "Result is : [Zero,Zero]\n",
      "As int it is : 0\n",
      "We have ID!\n"
     ]
    },
    {
     "data": {
      "application/x-qsharp-data": "\"Success!\"",
      "text/plain": [
       "Success!"
      ]
     },
     "execution_count": 10,
     "metadata": {},
     "output_type": "execute_result"
    }
   ],
   "source": [
    "%kata T111_DistinguishPaulis \n",
    "\n",
    "open Microsoft.Quantum.Measurement;\n",
    "open Microsoft.Quantum.Convert;\n",
    "\n",
    "operation DistinguishPaulis (unitary : (Qubit => Unit is Adj+Ctl)) : Int {\n",
    "    use qs = Qubit[2];\n",
    "    \n",
    "    H(qs[0]);\n",
    "    Controlled X([qs[0]], qs[1]);\n",
    "    \n",
    "    unitary(qs[0]);\n",
    "    \n",
    "    // now apply the bell basis measurement \n",
    "    Controlled X([qs[0]], qs[1]);\n",
    "    H(qs[0]);\n",
    "    \n",
    "    let result = MultiM(qs);\n",
    "    \n",
    "    let m1 = result[0] == Zero ? 0 | 1;\n",
    "    let m2 = result[1] == Zero ? 0 | 1;\n",
    "    \n",
    "    Message($\"Result is : {result}\");\n",
    "    \n",
    "    Message($\"As int it is : {ResultArrayAsInt(result)}\");\n",
    "    mutable res = -1;\n",
    "    if(m1 + m2 == 0){\n",
    "        Message(\"We have ID!\");\n",
    "        set res = 0;\n",
    "    }\n",
    "    // like Python , else if statements \n",
    "    elif(m1 == 0 and m2 == 1){\n",
    "        Message(\"We have X!\");\n",
    "        set res = 1;\n",
    "    }\n",
    "    elif(m1 == 1 and m2 == 1){\n",
    "        Message(\"We have Y!\");\n",
    "        set res = 2;\n",
    "    }\n",
    "    else {\n",
    "        Message(\"We have Z!\");\n",
    "        set res =  3;\n",
    "    }\n",
    "    return res;\n",
    "}"
   ]
  },
  {
   "cell_type": "markdown",
   "metadata": {},
   "source": [
    "*Can't come up with a solution? See the explained solution in the [Distinguish Unitaries Workbook](./Workbook_DistinguishUnitaries.ipynb#Task-1.11.-Distinguish-4-Pauli-unitaries).*"
   ]
  },
  {
   "cell_type": "markdown",
   "metadata": {},
   "source": [
    "## Part II. Multi-Qubit Gates"
   ]
  },
  {
   "cell_type": "markdown",
   "metadata": {},
   "source": [
    "### Task 2.1. $I \\otimes X$ or $\\text{CNOT}$?\n",
    "\n",
    "**Input:** An operation that implements a two-qubit unitary transformation:\n",
    "either the $I \\otimes X$ (the X gate applied to the second qubit)\n",
    "or the $\\text{CNOT}$ gate with the first qubit as control and the second qubit as target.\n",
    "* The operation will accept an array of qubits as input, but it will fail if the array is empty or has one or more than two qubits.\n",
    "* The operation will have Adjoint and Controlled variants defined.\n",
    "\n",
    "**Output:**  0 if the given operation is $I \\otimes X$, 1 if the given operation is the $\\text{CNOT}$ gate.\n",
    "\n",
    "You are allowed to apply the given operation and its adjoint/controlled variants exactly **once**."
   ]
  },
  {
   "cell_type": "code",
   "execution_count": null,
   "metadata": {
    "ExecuteTime": {
     "start_time": "2021-11-17T12:11:15.912Z"
    }
   },
   "outputs": [
    {
     "data": {
      "application/x-qsharp-data": "\"Success!\"",
      "text/plain": [
       "Success!"
      ]
     },
     "execution_count": 13,
     "metadata": {},
     "output_type": "execute_result"
    }
   ],
   "source": [
    "%kata T201_DistinguishIXfromCNOT\n",
    "\n",
    "open Microsoft.Quantum.Measurement;\n",
    "open Microsoft.Quantum.Convert;\n",
    "\n",
    "\n",
    "operation DistinguishIXfromCNOT (unitary : (Qubit[] => Unit is Adj+Ctl)) : Int {\n",
    "    use qs = Qubit[2];\n",
    "    \n",
    "    X(qs[1]);\n",
    "    \n",
    "    unitary([qs[0], qs[1]]);\n",
    "    \n",
    "    let result = ResultArrayAsInt(MultiM(qs));\n",
    "    \n",
    "    return result == 0 ? 0 | 1;\n",
    "    \n",
    "}"
   ]
  },
  {
   "cell_type": "markdown",
   "metadata": {},
   "source": [
    "*Can't come up with a solution? See the explained solution in the [Distinguish Unitaries Workbook](./Workbook_DistinguishUnitaries.ipynb#Task-2.1.-$I-\\otimes-X$-or-$\\text{CNOT}$?).*"
   ]
  },
  {
   "cell_type": "markdown",
   "metadata": {},
   "source": [
    "### Task 2.2. Figure out the direction of $\\text{CNOT}$\n",
    "\n",
    "**Input:** An operation that implements a two-qubit unitary transformation:\n",
    "either the $\\text{CNOT}$ gate with the first qubit as control and the second qubit as target ($\\text{CNOT}_{12}$)\n",
    "or the $\\text{CNOT}$ gate with the second qubit as control and the first qubit as target ($\\text{CNOT}_{21}$).\n",
    "* The operation will accept an array of qubits as input, but it will fail if the array is empty or has one or more than two qubits.\n",
    "* The operation will have Adjoint and Controlled variants defined.\n",
    "\n",
    "**Output:**  0 if the given operation is $\\text{CNOT}_{12}$, 1 if the given operation is $\\text{CNOT}_{21}$.\n",
    "\n",
    "You are allowed to apply the given operation and its adjoint/controlled variants exactly **once**."
   ]
  },
  {
   "cell_type": "code",
   "execution_count": null,
   "metadata": {
    "ExecuteTime": {
     "start_time": "2021-11-17T12:12:45.422Z"
    },
    "scrolled": true
   },
   "outputs": [
    {
     "data": {
      "application/x-qsharp-data": "\"Success!\"",
      "text/plain": [
       "Success!"
      ]
     },
     "execution_count": 15,
     "metadata": {},
     "output_type": "execute_result"
    }
   ],
   "source": [
    "%kata T202_CNOTDirection\n",
    "\n",
    "operation CNOTDirection (unitary : (Qubit[] => Unit is Adj+Ctl)) : Int {\n",
    "    use qs = Qubit[2];\n",
    "    \n",
    "    X(qs[1]);\n",
    "    \n",
    "    unitary(qs);\n",
    "    \n",
    "    let result = M(qs[0]);\n",
    "    \n",
    "    ResetAll(qs);\n",
    "    \n",
    "    return result == Zero ? 0 | 1;\n",
    "    \n",
    "}"
   ]
  },
  {
   "cell_type": "markdown",
   "metadata": {},
   "source": [
    "*Can't come up with a solution? See the explained solution in the [Distinguish Unitaries Workbook](./Workbook_DistinguishUnitaries.ipynb#Task-2.2.-Figure-out-the-direction-of-$\\text{CNOT}$).*"
   ]
  },
  {
   "cell_type": "markdown",
   "metadata": {},
   "source": [
    "### Task 2.3. $\\text{CNOT}_{12}$ or $\\text{SWAP}$?\n",
    "\n",
    "**Input:** An operation that implements a two-qubit unitary transformation:\n",
    "either the $\\text{CNOT}$ gate with the first qubit as control and the second qubit as target ($\\text{CNOT}_{12}$)\n",
    "or the $SWAP$ gate.\n",
    "* The operation will accept an array of qubits as input, but it will fail if the array is empty or has one or more than two qubits.\n",
    "* The operation will have Adjoint and Controlled variants defined.\n",
    "\n",
    "**Output:**  0 if the given operation is $\\text{CNOT}_{12}$, 1 if the given operation is $\\text{SWAP}$.\n",
    "\n",
    "You are allowed to apply the given operation and its adjoint/controlled variants exactly **once**."
   ]
  },
  {
   "cell_type": "code",
   "execution_count": null,
   "metadata": {
    "ExecuteTime": {
     "start_time": "2021-11-17T12:13:49.610Z"
    },
    "scrolled": false
   },
   "outputs": [
    {
     "data": {
      "application/x-qsharp-data": "\"Success!\"",
      "text/plain": [
       "Success!"
      ]
     },
     "execution_count": 18,
     "metadata": {},
     "output_type": "execute_result"
    }
   ],
   "source": [
    "%kata T203_DistinguishCNOTfromSWAP\n",
    "\n",
    "operation DistinguishCNOTfromSWAP (unitary : (Qubit[] => Unit is Adj+Ctl)) : Int {\n",
    "    use qs = Qubit[2];\n",
    "    \n",
    "    X(qs[1]);\n",
    "    \n",
    "    unitary (qs);\n",
    "    \n",
    "    let result = M(qs[0]);\n",
    "    ResetAll(qs);\n",
    "    \n",
    "    return result == Zero ? 0 | 1;\n",
    "}"
   ]
  },
  {
   "cell_type": "markdown",
   "metadata": {},
   "source": [
    "*Can't come up with a solution? See the explained solution in the [Distinguish Unitaries Workbook](./Workbook_DistinguishUnitaries.ipynb#Task-2.3.-$\\text{CNOT}_{12}$-or-$\\text{SWAP}$?).*"
   ]
  },
  {
   "cell_type": "markdown",
   "metadata": {},
   "source": [
    "### Task 2.4. Identity, $\\text{CNOT}$s or $\\text{SWAP}$?\n",
    "\n",
    "**Input:** An operation that implements a two-qubit unitary transformation:\n",
    "either the identity ($I \\otimes I$), the $\\text{CNOT}$ gate with one of the qubits as control and the other qubit as a target, \n",
    "or the $SWAP$ gate.\n",
    "* The operation will accept an array of qubits as input, but it will fail if the array is empty or has one or more than two qubits.\n",
    "* The operation will have Adjoint and Controlled variants defined.\n",
    "\n",
    "**Output:**  \n",
    "\n",
    "* 0 if the given operation is $I \\otimes I$, \n",
    "* 1 if the given operation is $\\text{CNOT}_{12}$,\n",
    "* 2 if the given operation is $\\text{CNOT}_{21}$,\n",
    "* 3 if the given operation is $\\text{SWAP}$.\n",
    "\n",
    "You are allowed to apply the given operation and its adjoint/controlled variants at most **twice**."
   ]
  },
  {
   "cell_type": "code",
   "execution_count": null,
   "metadata": {
    "ExecuteTime": {
     "start_time": "2021-11-17T12:45:17.886Z"
    },
    "scrolled": false
   },
   "outputs": [
    {
     "data": {
      "application/x-qsharp-data": "\"Success!\"",
      "text/plain": [
       "Success!"
      ]
     },
     "execution_count": 20,
     "metadata": {},
     "output_type": "execute_result"
    }
   ],
   "source": [
    "%kata T204_DistinguishTwoQubitUnitaries\n",
    "\n",
    "operation DistinguishTwoQubitUnitaries (unitary : (Qubit[] => Unit is Adj+Ctl)) : Int {\n",
    "    // prepare 01 and start \n",
    "    \n",
    "    // divide into two groups \n",
    "    use qs = Qubit[2];\n",
    "    \n",
    "    X(qs[1]);\n",
    "    \n",
    "    unitary(qs);\n",
    "    \n",
    "    // divide into two groups \n",
    "    \n",
    "    mutable result = 0;\n",
    "    \n",
    "    \n",
    "    let m1 = M(qs[0]);\n",
    "    \n",
    "    if (m1 == Zero){\n",
    "        // only here an application is required\n",
    "        \n",
    "        unitary([qs[1], qs[0]]);\n",
    "        \n",
    "        let m2 = M(qs[0]);\n",
    "        \n",
    "        set result = m2 == Zero ? 0 | 1;\n",
    "    \n",
    "    }\n",
    "    else{\n",
    "        let m2 = M(qs[1]);\n",
    "        \n",
    "        if (m2 == One){\n",
    "            // it must have been the CX2->1\n",
    "            set result = 2;\n",
    "        }\n",
    "        else{\n",
    "            set result = 3;\n",
    "\n",
    "        }\n",
    "    }\n",
    "    \n",
    "    ResetAll(qs);\n",
    "    return result;\n",
    "}"
   ]
  },
  {
   "cell_type": "markdown",
   "metadata": {},
   "source": [
    "*Can't come up with a solution? See the explained solution in the [Distinguish Unitaries Workbook](./Workbook_DistinguishUnitaries.ipynb#Task-2.4.-Identity,-$\\text{CNOT}$s-or-$\\text{SWAP}$?).*"
   ]
  }
 ],
 "metadata": {
  "kernelspec": {
   "display_name": "Q#",
   "language": "qsharp",
   "name": "iqsharp"
  },
  "language_info": {
   "file_extension": ".qs",
   "mimetype": "text/x-qsharp",
   "name": "qsharp",
   "version": "0.14"
  }
 },
 "nbformat": 4,
 "nbformat_minor": 2
}
