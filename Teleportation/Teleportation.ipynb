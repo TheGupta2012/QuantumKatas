{
 "cells": [
  {
   "cell_type": "markdown",
   "metadata": {},
   "source": [
    "# Teleportation Kata\n",
    "\n",
    "**Teleportation** quantum kata is a series of exercises designed to get you familiar with programming in Q#. It covers the quantum teleportation protocol which allows you to communicate a quantum state using only classical communication and previously shared quantum entanglement.\n",
    "\n",
    " - Teleportation is described in [this Wikipedia article](https://en.wikipedia.org/wiki/Quantum_teleportation).\n",
    " - An interactive demonstration can be found [on the Wolfram Demonstrations Project](http://demonstrations.wolfram.com/QuantumTeleportation/).\n",
    "\n",
    "Each task is wrapped in one operation preceded by the description of the task.  Your goal is to fill in the blank (marked with `// ...` comment) with some Q# code that solves the task. To verify your answer, run the cell using Ctrl+Enter (⌘+Enter on macOS)."
   ]
  },
  {
   "cell_type": "markdown",
   "metadata": {},
   "source": [
    "## Part I. Standard Teleportation\n",
    "We split the teleportation protocol into several steps:\n",
    "    \n",
    "* Preparation (creating the entangled pair of qubits that are sent to Alice and Bob).\n",
    "* Sending the message (Alice's task): Entangling the message qubit with Alice's qubit and extracting two classical bits to be sent to Bob.\n",
    "* Reconstructing the message (Bob's task): Using the two classical bits Bob received from Alice to get Bob's qubit into the state in which the message qubit had been originally.  Finally, we compose these steps into the complete teleportation protocol."
   ]
  },
  {
   "cell_type": "markdown",
   "metadata": {},
   "source": [
    "### Task 1.1. Entangled pair\n",
    "\n",
    "**Input:** two qubits qAlice and qBob, each in $|0\\rangle$ state.\n",
    "\n",
    "**Goal:**  prepare a Bell state $|\\Phi^{+}\\rangle = \\frac{1}{\\sqrt{2}}(|00\\rangle + |11\\rangle)$ on these qubits.\n",
    "\n",
    "> In the context of the quantum teleportation protocol, this is the preparation step: qubits qAlice and qBob will be sent to Alice and Bob, respectively."
   ]
  },
  {
   "cell_type": "code",
   "execution_count": null,
   "metadata": {
    "ExecuteTime": {
     "start_time": "2021-11-22T06:05:06.539Z"
    }
   },
   "outputs": [
    {
     "data": {
      "application/x-qsharp-data": "\"Success!\"",
      "text/plain": [
       "Success!"
      ]
     },
     "execution_count": 1,
     "metadata": {},
     "output_type": "execute_result"
    }
   ],
   "source": [
    "%kata T11_Entangle \n",
    "\n",
    "operation Entangle (qAlice : Qubit, qBob : Qubit) : Unit {\n",
    "    H(qAlice);\n",
    "    CNOT(qAlice, qBob);\n",
    "    \n",
    "}"
   ]
  },
  {
   "cell_type": "markdown",
   "metadata": {},
   "source": [
    "### Task 1.2. Send the message (Alice's task)\n",
    "\n",
    "Entangle the message qubit with Alice's qubit and extract two classical bits to be sent to Bob.\n",
    "\n",
    "**Inputs**: \n",
    "1. Alice's part of the entangled pair of qubits qAlice.\n",
    "2. The message qubit qMessage.\n",
    "\n",
    "**Output**:\n",
    "Two classical bits Alice will send to Bob via classical channel as a tuple of Bool values. The first bit in the tuple should hold the result of measurement of the message qubit, the second bit - the result of measurement of Alice's qubit.\n",
    "Represent measurement result 'One' as `true` and 'Zero' as `false`.  The state of the qubits in the end of the operation doesn't matter."
   ]
  },
  {
   "cell_type": "code",
   "execution_count": null,
   "metadata": {
    "ExecuteTime": {
     "start_time": "2021-11-20T08:09:47.457Z"
    }
   },
   "outputs": [
    {
     "data": {
      "application/x-qsharp-data": "\"Success!\"",
      "text/plain": [
       "Success!"
      ]
     },
     "execution_count": 2,
     "metadata": {},
     "output_type": "execute_result"
    }
   ],
   "source": [
    "%kata T12_SendMessage \n",
    "\n",
    "operation SendMessage (qAlice : Qubit, qMessage : Qubit) : (Bool, Bool) {\n",
    "    // perform bell basis measurement\n",
    "    \n",
    "    CNOT(qMessage, qAlice);\n",
    "    H(qMessage);\n",
    "    \n",
    "    let m1 = M(qMessage) == Zero ? false | true;\n",
    "    let m2 = M(qAlice) == Zero ? false | true;\n",
    "    \n",
    "    return (m1,m2);\n",
    "}"
   ]
  },
  {
   "cell_type": "markdown",
   "metadata": {},
   "source": [
    "### Task 1.3. Reconstruct the message (Bob's task)\n",
    "\n",
    "Transform Bob's qubit into the required state using the two classical bits received from Alice.\n",
    "\n",
    "**Inputs**: \n",
    "1. Bob's part of the entangled pair of qubits qBob.\n",
    "2. The tuple of classical bits received from Alice, in the format used in task 1.2.\n",
    "\n",
    "**Goal** : Transform Bob's qubit qBob into the state in which the message qubit had been originally."
   ]
  },
  {
   "cell_type": "code",
   "execution_count": null,
   "metadata": {
    "ExecuteTime": {
     "start_time": "2021-11-20T08:11:00.424Z"
    }
   },
   "outputs": [
    {
     "data": {
      "application/x-qsharp-data": "\"Success!\"",
      "text/plain": [
       "Success!"
      ]
     },
     "execution_count": 3,
     "metadata": {},
     "output_type": "execute_result"
    }
   ],
   "source": [
    "%kata T13_ReconstructMessage \n",
    "\n",
    "operation ReconstructMessage (qBob : Qubit, (b1 : Bool, b2 : Bool)) : Unit {\n",
    "    // b1 is message bit measurement\n",
    "    // b2 is alice bit measurement\n",
    "    \n",
    "    if(b2 == true){\n",
    "        X(qBob);\n",
    "    }\n",
    "    if(b1 == true){\n",
    "        Z(qBob);\n",
    "   }\n",
    "}"
   ]
  },
  {
   "cell_type": "markdown",
   "metadata": {},
   "source": [
    "### Task 1.4. Standard teleportation protocol\n",
    "\n",
    "Put together the steps implemented in tasks 1.1 - 1.3 to implement the full teleportation protocol.\n",
    "\n",
    "**Inputs:**\n",
    "\n",
    "1. The two qubits qAlice and qBob in $|0\\rangle$ state.\n",
    "2. The message qubit qMessage in the state $|\\psi\\rangle$ to be teleported.\n",
    "\n",
    "**Goal:** Transform Bob's qubit qBob into the state $|\\psi\\rangle$. The state of the qubits qAlice and qMessage in the end of the operation doesn't matter."
   ]
  },
  {
   "cell_type": "code",
   "execution_count": null,
   "metadata": {
    "ExecuteTime": {
     "start_time": "2021-11-20T08:13:45.478Z"
    }
   },
   "outputs": [
    {
     "data": {
      "application/x-qsharp-data": "\"Success!\"",
      "text/plain": [
       "Success!"
      ]
     },
     "execution_count": 4,
     "metadata": {},
     "output_type": "execute_result"
    }
   ],
   "source": [
    "%kata T14_StandardTeleport\n",
    "\n",
    "operation StandardTeleport (qAlice : Qubit, qBob : Qubit, qMessage : Qubit) : Unit {\n",
    "    // first make the epr pair \n",
    "    H(qAlice);\n",
    "    CNOT(qAlice, qBob);\n",
    "    \n",
    "    // second, measure the message for alice in bell basis \n",
    "    CNOT(qMessage, qAlice);\n",
    "    H(qMessage);\n",
    "    \n",
    "    let m1 = M(qMessage) == Zero ? false | true;\n",
    "    let m2 = M(qAlice) == Zero ? false | true;\n",
    "    \n",
    "    // third, transform the state of Bob's qubit based on \n",
    "    // measurements\n",
    "    \n",
    "    if(m2 == true){\n",
    "        X(qBob);\n",
    "    }\n",
    "    if(m1 == true){\n",
    "        Z(qBob);\n",
    "    }\n",
    "    \n",
    "}"
   ]
  },
  {
   "cell_type": "markdown",
   "metadata": {},
   "source": [
    "### Task 1.5. Prepare a state and send it as a message (Alice's task)\n",
    "\n",
    "Given a Pauli basis along with a state `true` as 'One' or `false` as 'Zero', prepare a message qubit, entangle it with Alice's qubit, and extract two classical bits to be sent to Bob.\n",
    "\n",
    "**Inputs:** \n",
    "\n",
    "1. Alice's part of the entangled pair of qubits qAlice.\n",
    "2. A PauliX, PauliY, or PauliZ basis in which the message qubit should be prepared\n",
    "3. A Bool indicating the eigenstate in which the message qubit should be prepared\n",
    "\n",
    "**Output:** \n",
    "\n",
    "Two classical bits Alice will send to Bob via classical channel as a tuple of Bool values.  The first bit in the tuple should hold the result of measurement of the message qubit, the second bit - the result of measurement of Alice's qubit.  Represent measurement result 'One' as `true` and 'Zero' as `false`. The state of the qubit qAlice in the end of the operation doesn't matter."
   ]
  },
  {
   "cell_type": "code",
   "execution_count": null,
   "metadata": {
    "ExecuteTime": {
     "start_time": "2021-11-20T08:21:38.438Z"
    }
   },
   "outputs": [
    {
     "data": {
      "application/x-qsharp-data": "\"Success!\"",
      "text/plain": [
       "Success!"
      ]
     },
     "execution_count": 5,
     "metadata": {},
     "output_type": "execute_result"
    }
   ],
   "source": [
    "%kata T15_PrepareAndSendMessage\n",
    "\n",
    "operation PrepareAndSendMessage (qAlice : Qubit, basis : Pauli, state : Bool) : (Bool, Bool) {\n",
    "    use qm = Qubit();\n",
    "    \n",
    "    if (basis == PauliZ){\n",
    "        if(state == true){\n",
    "            X(qm);\n",
    "        }\n",
    "    }\n",
    "    elif (basis == PauliX){\n",
    "        H(qm);\n",
    "        if(state == true){\n",
    "            Z(qm);\n",
    "        }\n",
    "    }\n",
    "    else{\n",
    "        H(qm);\n",
    "        if(state == false){\n",
    "            S(qm);\n",
    "        }\n",
    "        else{\n",
    "            Adjoint S(qm);\n",
    "        }\n",
    "    }\n",
    "    \n",
    "    // we have the message qubit\n",
    "    \n",
    "    // simple, send it just\n",
    "    return SendMessage(qAlice, qm);\n",
    "}"
   ]
  },
  {
   "cell_type": "markdown",
   "metadata": {},
   "source": [
    "### Task 1.6. Reconstruct and measure the message state (Bob's task)\n",
    "\n",
    "Transform Bob's qubit into the required state using the two classical bits received from Alice and measure it in the same basis in which she prepared the message.\n",
    "    \n",
    "**Inputs:**\n",
    "\n",
    "1. Bob's part of the entangled pair of qubits qBob.\n",
    "2. The tuple of classical bits received from Alice, in the format used in task 1.5.\n",
    "3. The PauliX, PauliY, or PauliZ basis in which the message qubit was originally prepared.\n",
    "\n",
    "**Output:** A Bool indicating the eigenstate in which the message qubit was prepared, 'One' as `true` and 'Zero' as `false`.  The state of the qubit qBob in the end of the operation doesn't matter.\n",
    "\n",
    "> To get the output, transform Bob's qubit qBob into the state in which the message qubit was originally prepared, then measure it. "
   ]
  },
  {
   "cell_type": "code",
   "execution_count": null,
   "metadata": {
    "ExecuteTime": {
     "start_time": "2021-11-20T08:26:04.873Z"
    }
   },
   "outputs": [
    {
     "data": {
      "application/x-qsharp-data": "\"Success!\"",
      "text/plain": [
       "Success!"
      ]
     },
     "execution_count": 8,
     "metadata": {},
     "output_type": "execute_result"
    }
   ],
   "source": [
    "%kata T16_ReconstructAndMeasureMessage\n",
    "\n",
    "operation ReconstructAndMeasureMessage (qBob : Qubit, (b1 : Bool, b2 : Bool), basis : Pauli) : Bool {\n",
    "    // first do the required operation and transform the \n",
    "    // Bob qubit \n",
    "    \n",
    "    // perfect, again the transformation part is okay, \n",
    "    ReconstructMessage(qBob,(b1,b2));\n",
    "    \n",
    "    // now measure \n",
    "    let result = Measure([basis],[qBob]) == Zero ? false | true;\n",
    "    \n",
    "    return result;\n",
    "}"
   ]
  },
  {
   "cell_type": "markdown",
   "metadata": {},
   "source": [
    "### Task 1.7. Testing standard quantum teleportation\n",
    "\n",
    "**Goal:** Test that the `StandardTeleport` operation from task 1.4 is able to successfully teleport the states $|0\\rangle$ and $|1\\rangle$, as well as superposition states such as $\\frac{1}{\\sqrt{2}} \\big(|0\\rangle + |1\\rangle\\big)$, $\\frac{1}{\\sqrt{2}} \\big(|0\\rangle - |1\\rangle\\big)$, $\\frac{1}{\\sqrt{2}} \\big(|0\\rangle + i|1\\rangle\\big)$ and $\\frac{1}{\\sqrt{2}} \\big(|0\\rangle - i|1\\rangle\\big)$.\n",
    "\n",
    "> This is an open-ended task, and is not covered by a unit test. To run the code, execute the cell with the definition of the `Run_StandardTeleport` operation first; if it compiled successfully without any errors, you can run the operation by executing the next cell (`%simulate Run_StandardTeleport`).\n",
    "\n",
    "> Note that this task relies on your implementations of the previous tasks. If you are getting the \"No variable with that name exists.\" error, you might have to execute previous code cells before retrying this task.\n",
    "\n",
    "<details>\n",
    "  <summary><b>Need a hint? Click here</b</summary>\n",
    "  You may find your answers for 1.5 and 1.6 useful\n",
    "</details>"
   ]
  },
  {
   "cell_type": "code",
   "execution_count": null,
   "metadata": {
    "ExecuteTime": {
     "start_time": "2021-11-20T08:33:49.982Z"
    }
   },
   "outputs": [
    {
     "data": {
      "application/x-qsharp-data": "[\"Run_StandardTeleport\"]",
      "text/html": [
       "<ul><li>Run_StandardTeleport</li></ul>"
      ],
      "text/plain": [
       "Run_StandardTeleport"
      ]
     },
     "execution_count": 13,
     "metadata": {},
     "output_type": "execute_result"
    }
   ],
   "source": [
    "open Microsoft.Quantum.Diagnostics;\n",
    "\n",
    "operation Run_StandardTeleport () : String {\n",
    "    use qAlice = Qubit();\n",
    "    use qBob = Qubit();\n",
    "    \n",
    "    H(qAlice);\n",
    "    CNOT(qAlice, qBob);\n",
    "\n",
    "    let message = PrepareAndSendMessage(qAlice, PauliY, true);\n",
    "    \n",
    "    let result = ReconstructAndMeasureMessage(qBob, message, PauliY);\n",
    "    \n",
    "    Message(\"Result is :\");\n",
    "    DumpMachine();\n",
    "    \n",
    "    return \"Success!\";\n",
    "}"
   ]
  },
  {
   "cell_type": "code",
   "execution_count": null,
   "metadata": {
    "ExecuteTime": {
     "start_time": "2021-11-20T08:33:50.660Z"
    }
   },
   "outputs": [],
   "source": [
    "%config dump.basisStateLabelingConvention = \"Bitstring\"\n",
    "%config --save"
   ]
  },
  {
   "cell_type": "markdown",
   "metadata": {},
   "source": [
    "## Nice\n",
    "- Sent the $|in\\rangle$ state"
   ]
  },
  {
   "cell_type": "code",
   "execution_count": null,
   "metadata": {
    "ExecuteTime": {
     "start_time": "2021-11-20T08:33:51.328Z"
    }
   },
   "outputs": [
    {
     "name": "stdout",
     "output_type": "stream",
     "text": [
      "Result is :\n"
     ]
    },
    {
     "data": {
      "application/x-qsharp-data": "{\"diagnostic_kind\":\"state-vector\",\"div_id\":\"dump-machine-div-37b0ed43-60d4-48f5-854b-7f2e68da83aa\",\"qubit_ids\":[0,1],\"n_qubits\":2,\"amplitudes\":[{\"Real\":0.7071067811865476,\"Imaginary\":0.0,\"Magnitude\":0.7071067811865476,\"Phase\":0.0},{\"Real\":0.0,\"Imaginary\":0.0,\"Magnitude\":0.0,\"Phase\":0.0},{\"Real\":0.0,\"Imaginary\":-0.7071067811865476,\"Magnitude\":0.7071067811865476,\"Phase\":-1.5707963267948966},{\"Real\":0.0,\"Imaginary\":0.0,\"Magnitude\":0.0,\"Phase\":0.0}]}",
      "text/html": [
       "\r\n",
       "                    <table style=\"table-layout: fixed; width: 100%\">\r\n",
       "                        <thead>\r\n",
       "                            \r\n",
       "                        <tr>\r\n",
       "                            <th>Qubit IDs</th>\r\n",
       "                            <td span=\"3\">0, 1</td>\r\n",
       "                        </tr>\r\n",
       "                    \r\n",
       "                            <tr>\r\n",
       "                                <th style=\"width: 20ch)\">Basis state (bitstring)</th>\r\n",
       "                                <th style=\"width: 20ch\">Amplitude</th><th style=\"width: calc(100% - 26ch - 20ch)\">Meas. Pr.</th><th style=\"width: 6ch\">Phase</th>\r\n",
       "                            </tr>\r\n",
       "                        </thead>\r\n",
       "                        <tbody>\r\n",
       "                        \r\n",
       "                            <tr>\r\n",
       "                                <td>$\\left|00\\right\\rangle$</td>\r\n",
       "                                <td>$0.7071 + 0.0000 i$</td>\r\n",
       "                                \r\n",
       "                                <td>\r\n",
       "                                    <progress\r\n",
       "                                        max=\"100\"\r\n",
       "                                        value=\"50.000000000000014\"\r\n",
       "                                        style=\"width: 100%;\"\r\n",
       "                                    > \r\n",
       "                                    <td>\r\n",
       "                                    <p id=\"round-d2c604ce-a321-40df-bf11-0011c9e58a29\"> \r\n",
       "                                    <script>\r\n",
       "                                    var num = 50.000000000000014;\r\n",
       "                                    num = num.toFixed(4);\r\n",
       "                                    var num_string = num + \"%\";\r\n",
       "                                     document.getElementById(\"round-d2c604ce-a321-40df-bf11-0011c9e58a29\").innerHTML = num_string;\r\n",
       "                                    </script> </p>\r\n",
       "                                    </td>\r\n",
       "                                </td>\r\n",
       "                            \r\n",
       "                                \r\n",
       "                                <td style=\"transform: rotate(0deg);\r\n",
       "                   text-align: center;\">\r\n",
       "                                 ↑\r\n",
       "                                </td>\r\n",
       "                            \r\n",
       "                            </tr>\r\n",
       "                        \n",
       "\r\n",
       "                            <tr>\r\n",
       "                                <td>$\\left|01\\right\\rangle$</td>\r\n",
       "                                <td>$0.0000  -0.7071 i$</td>\r\n",
       "                                \r\n",
       "                                <td>\r\n",
       "                                    <progress\r\n",
       "                                        max=\"100\"\r\n",
       "                                        value=\"50.000000000000014\"\r\n",
       "                                        style=\"width: 100%;\"\r\n",
       "                                    > \r\n",
       "                                    <td>\r\n",
       "                                    <p id=\"round-e5b6b7ac-1402-4a4c-a456-1c1b10b1f254\"> \r\n",
       "                                    <script>\r\n",
       "                                    var num = 50.000000000000014;\r\n",
       "                                    num = num.toFixed(4);\r\n",
       "                                    var num_string = num + \"%\";\r\n",
       "                                     document.getElementById(\"round-e5b6b7ac-1402-4a4c-a456-1c1b10b1f254\").innerHTML = num_string;\r\n",
       "                                    </script> </p>\r\n",
       "                                    </td>\r\n",
       "                                </td>\r\n",
       "                            \r\n",
       "                                \r\n",
       "                                <td style=\"transform: rotate(-90deg);\r\n",
       "                   text-align: center;\">\r\n",
       "                                 ↑\r\n",
       "                                </td>\r\n",
       "                            \r\n",
       "                            </tr>\r\n",
       "                        \n",
       "\r\n",
       "                            <tr>\r\n",
       "                                <td>$\\left|10\\right\\rangle$</td>\r\n",
       "                                <td>$0.0000 + 0.0000 i$</td>\r\n",
       "                                \r\n",
       "                                <td>\r\n",
       "                                    <progress\r\n",
       "                                        max=\"100\"\r\n",
       "                                        value=\"0\"\r\n",
       "                                        style=\"width: 100%;\"\r\n",
       "                                    > \r\n",
       "                                    <td>\r\n",
       "                                    <p id=\"round-37779cc0-853c-4d8c-bd88-59d216ef11f5\"> \r\n",
       "                                    <script>\r\n",
       "                                    var num = 0;\r\n",
       "                                    num = num.toFixed(4);\r\n",
       "                                    var num_string = num + \"%\";\r\n",
       "                                     document.getElementById(\"round-37779cc0-853c-4d8c-bd88-59d216ef11f5\").innerHTML = num_string;\r\n",
       "                                    </script> </p>\r\n",
       "                                    </td>\r\n",
       "                                </td>\r\n",
       "                            \r\n",
       "                                \r\n",
       "                                <td style=\"transform: rotate(0deg);\r\n",
       "                   text-align: center;\">\r\n",
       "                                 ↑\r\n",
       "                                </td>\r\n",
       "                            \r\n",
       "                            </tr>\r\n",
       "                        \n",
       "\r\n",
       "                            <tr>\r\n",
       "                                <td>$\\left|11\\right\\rangle$</td>\r\n",
       "                                <td>$0.0000 + 0.0000 i$</td>\r\n",
       "                                \r\n",
       "                                <td>\r\n",
       "                                    <progress\r\n",
       "                                        max=\"100\"\r\n",
       "                                        value=\"0\"\r\n",
       "                                        style=\"width: 100%;\"\r\n",
       "                                    > \r\n",
       "                                    <td>\r\n",
       "                                    <p id=\"round-ec0c270f-d931-4041-bbbe-8abc5dc5cb16\"> \r\n",
       "                                    <script>\r\n",
       "                                    var num = 0;\r\n",
       "                                    num = num.toFixed(4);\r\n",
       "                                    var num_string = num + \"%\";\r\n",
       "                                     document.getElementById(\"round-ec0c270f-d931-4041-bbbe-8abc5dc5cb16\").innerHTML = num_string;\r\n",
       "                                    </script> </p>\r\n",
       "                                    </td>\r\n",
       "                                </td>\r\n",
       "                            \r\n",
       "                                \r\n",
       "                                <td style=\"transform: rotate(0deg);\r\n",
       "                   text-align: center;\">\r\n",
       "                                 ↑\r\n",
       "                                </td>\r\n",
       "                            \r\n",
       "                            </tr>\r\n",
       "                        \r\n",
       "                        </tbody>\r\n",
       "                    </table>"
      ],
      "text/plain": [
       "|00⟩\t0.7071067811865476 + 0𝑖\n",
       "|01⟩\t0 + -0.7071067811865476𝑖\n",
       "|10⟩\t0 + 0𝑖\n",
       "|11⟩\t0 + 0𝑖"
      ]
     },
     "metadata": {},
     "output_type": "display_data"
    },
    {
     "data": {
      "application/x-qsharp-data": "\"Success!\"",
      "text/plain": [
       "Success!"
      ]
     },
     "execution_count": 15,
     "metadata": {},
     "output_type": "execute_result"
    }
   ],
   "source": [
    "%simulate Run_StandardTeleport"
   ]
  },
  {
   "cell_type": "markdown",
   "metadata": {},
   "source": [
    "## Part II. Teleportation using different entangled pair\n",
    "\n",
    "In this section we will take a look at the changes in the reconstruction process (Bob's task) if the qubits shared between Alice and Bob are entangled in a different state.  Alice's part of the protocol remains the same in all tasks.  \n",
    "As a reminder, the standard teleportation protocol requires shared qubits in state $|\\Phi^{+}\\rangle = \\frac{1}{\\sqrt{2}} \\big(|00\\rangle + |11\\rangle\\big)$.\n",
    "\n",
    "In each task, the inputs are\n",
    "1. Bob's part of the entangled pair of qubits qBob.\n",
    "2. The tuple of classical bits received from Alice, in the format used in task 1.2.\n",
    "\n",
    "The goal is to transform Bob's qubit qBob into the state in which the message qubit had been originally."
   ]
  },
  {
   "cell_type": "markdown",
   "metadata": {},
   "source": [
    "### Task 2.1. Reconstruct the message if the entangled qubits were in the state $|\\Phi^{-}\\rangle = \\frac{1}{\\sqrt{2}} \\big(|00\\rangle - |11\\rangle\\big)$"
   ]
  },
  {
   "cell_type": "code",
   "execution_count": null,
   "metadata": {
    "ExecuteTime": {
     "start_time": "2021-11-22T06:10:05.172Z"
    }
   },
   "outputs": [
    {
     "data": {
      "application/x-qsharp-data": "\"Success!\"",
      "text/plain": [
       "Success!"
      ]
     },
     "execution_count": 2,
     "metadata": {},
     "output_type": "execute_result"
    }
   ],
   "source": [
    "%kata T21_ReconstructMessage_PhiMinus\n",
    "\n",
    "operation ReconstructMessage_PhiMinus (qBob : Qubit, (b1 : Bool, b2 : Bool)) : Unit {\n",
    "    \n",
    "    // after calculation \n",
    "    if(b1 == false){\n",
    "        Z(qBob);\n",
    "    }\n",
    "    if(b2 == true){\n",
    "        X(qBob);\n",
    "    }\n",
    "    \n",
    "}"
   ]
  },
  {
   "cell_type": "markdown",
   "metadata": {},
   "source": [
    "### Task 2.2. Reconstruct the message if the entangled qubits were in the state $|\\Psi^{+}\\rangle = \\frac{1}{\\sqrt{2}} \\big(|01\\rangle + |10\\rangle\\big)$"
   ]
  },
  {
   "cell_type": "code",
   "execution_count": null,
   "metadata": {
    "ExecuteTime": {
     "start_time": "2021-11-22T06:11:43.541Z"
    }
   },
   "outputs": [
    {
     "data": {
      "application/x-qsharp-data": "\"Success!\"",
      "text/plain": [
       "Success!"
      ]
     },
     "execution_count": 3,
     "metadata": {},
     "output_type": "execute_result"
    }
   ],
   "source": [
    "%kata T22_ReconstructMessage_PsiPlus\n",
    "\n",
    "operation ReconstructMessage_PsiPlus (qBob : Qubit, (b1 : Bool, b2 : Bool)) : Unit {\n",
    "    // b1 -> message qubit measurement \n",
    "    // b2 -> alice qubit measurement \n",
    "    \n",
    "    if(b2 == false){\n",
    "        X(qBob);\n",
    "    }\n",
    "    if(b1 == true){\n",
    "        Z(qBob);\n",
    "    }\n",
    "    \n",
    "}"
   ]
  },
  {
   "cell_type": "markdown",
   "metadata": {},
   "source": [
    "### Task 2.3. Reconstruct the message if the entangled qubits were in the state $|\\Psi^{-}\\rangle = \\frac{1}{\\sqrt{2}} \\big(|01\\rangle - |10\\rangle\\big)$"
   ]
  },
  {
   "cell_type": "code",
   "execution_count": null,
   "metadata": {
    "ExecuteTime": {
     "start_time": "2021-11-22T06:20:13.064Z"
    }
   },
   "outputs": [
    {
     "data": {
      "application/x-qsharp-data": "\"Success!\"",
      "text/plain": [
       "Success!"
      ]
     },
     "execution_count": 5,
     "metadata": {},
     "output_type": "execute_result"
    }
   ],
   "source": [
    "%kata T23_ReconstructMessage_PsiMinus\n",
    "\n",
    "operation ReconstructMessage_PsiMinus (qBob : Qubit, (b1 : Bool, b2 : Bool)) : Unit {\n",
    "    // again, calculation is required for some determination \n",
    "    // on false false x and Z are applied, order is first x then z\n",
    "    if(b2 == false){\n",
    "        X(qBob);\n",
    "    }\n",
    "    if(b1 == false){\n",
    "        Z(qBob);\n",
    "    }\n",
    "}"
   ]
  },
  {
   "cell_type": "markdown",
   "metadata": {},
   "source": [
    "## Part III. Principle of deferred measurement\n",
    "\n",
    "The principle of deferred measurement claims that measurements can be moved from an intermediate stage of a quantum circuit to the end of the circuit.  If the measurement results are used to perform classically controlled operations, they can be replaced by controlled quantum operations."
   ]
  },
  {
   "cell_type": "markdown",
   "metadata": {},
   "source": [
    "### Task 3.1. Measurement-free teleportation.\n",
    "\n",
    "In this task we will apply this principle to the teleportation circuit.\n",
    "\n",
    "**Inputs:** \n",
    "\n",
    "1. The two qubits qAlice and qBob in $|\\Phi^{+}\\rangle$ state.\n",
    "2. The message qubit qMessage in the state $|\\psi\\rangle$ to be teleported.\n",
    "\n",
    "**Goal:** transform Bob's qubit qBob into the state $|\\psi\\rangle$ using no measurements.  At the end of the operation qubits qAlice and qMessage should not be entangled with qBob."
   ]
  },
  {
   "cell_type": "code",
   "execution_count": null,
   "metadata": {
    "ExecuteTime": {
     "start_time": "2021-11-22T06:29:38.731Z"
    }
   },
   "outputs": [
    {
     "data": {
      "application/x-qsharp-data": "\"Success!\"",
      "text/plain": [
       "Success!"
      ]
     },
     "execution_count": 6,
     "metadata": {},
     "output_type": "execute_result"
    }
   ],
   "source": [
    "%kata T31_MeasurementFreeTeleport\n",
    "\n",
    "operation MeasurementFreeTeleport (qAlice : Qubit, qBob : Qubit, qMessage : Qubit) : Unit {\n",
    "    // simple, make a bell transform for alice and message \n",
    "    CNOT(qMessage, qAlice);\n",
    "    H(qMessage);\n",
    "    \n",
    "    // add the final controlled rotations \n",
    "    CNOT(qAlice, qBob);\n",
    "    Controlled Z([qMessage], qBob);\n",
    "    \n",
    "    // that's it...\n",
    "    \n",
    "}"
   ]
  },
  {
   "cell_type": "markdown",
   "metadata": {},
   "source": [
    "## Part IV. Teleportation with three entangled qubits\n",
    "\n",
    "Quantum teleportation using entangled states other than Bell pairs is also feasible.  Here we look at just one of many possible schemes - in it a state is transferred from Alice to a third participant Charlie, but this may only be accomplished if Charlie\n",
    "has the trust of the second participant Bob."
   ]
  },
  {
   "cell_type": "markdown",
   "metadata": {},
   "source": [
    "### Task 4.1. Entangled trio\n",
    "\n",
    "**Inputs:** three qubits qAlice, qBob, and qCharlie, each in $|0\\rangle$ state.\n",
    "\n",
    "**Goal:** create an entangled state $|\\Psi^{3}\\rangle = \\frac{1}{2} \\big(|000\\rangle + |011\\rangle + |101\\rangle + |110\\rangle\\big)$ on these qubits.\n",
    "\n",
    "In the context of the quantum teleportation protocol, this is the preparation step: qubits qAlice, qBob, and qCharlie will be sent to Alice, Bob, and Charlie respectively."
   ]
  },
  {
   "cell_type": "code",
   "execution_count": null,
   "metadata": {
    "ExecuteTime": {
     "start_time": "2021-11-22T06:34:51.282Z"
    }
   },
   "outputs": [
    {
     "data": {
      "application/x-qsharp-data": "\"Success!\"",
      "text/plain": [
       "Success!"
      ]
     },
     "execution_count": 7,
     "metadata": {},
     "output_type": "execute_result"
    }
   ],
   "source": [
    "%kata T41_EntangleThreeQubits\n",
    "\n",
    "operation EntangleThreeQubits (qAlice : Qubit, qBob : Qubit, qCharlie : Qubit) : Unit {\n",
    "    // use alice qubit as the control one \n",
    "    \n",
    "    // first make the phi+ on bob and charlie \n",
    "    \n",
    "    H(qBob);\n",
    "    CNOT(qBob, qCharlie);\n",
    "    \n",
    "    // now entangle the alice qubit in superposition \n",
    "    \n",
    "    H(qAlice);\n",
    "    CNOT(qAlice, qBob);\n",
    "    \n",
    "}"
   ]
  },
  {
   "cell_type": "markdown",
   "metadata": {},
   "source": [
    "### Task 4.2. Reconstruct the message (Charlie's task)\n",
    "\n",
    "Alice has a message qubit in the state $|\\psi\\rangle$  to be teleported, she has entangled it with her own qubit from $|\\Psi^{3}\\rangle$ in the same manner as task 1.2 and extracted two classical bits in order to send them to Charlie. Bob has also measured his own qubit from $|\\Psi^{3}\\rangle$ and sent Charlie the result. Transform Charlie's qubit into the required state using the two classical bits received from Alice, and the one classical bit received from Bob.\n",
    "\n",
    "**Inputs:** \n",
    "1. Charlie's part of the entangled trio of qubits qCharlie.\n",
    "2. The tuple of classical bits received from Alice, in the format used in task 1.2.\n",
    "3. A classical bit resulting from the measurement of Bob's qubit.\n",
    "\n",
    "**Goal:** Transform Charlie's qubit qCharlie into the state in which the message qubit had been originally."
   ]
  },
  {
   "cell_type": "code",
   "execution_count": null,
   "metadata": {
    "ExecuteTime": {
     "start_time": "2021-11-22T06:50:39.820Z"
    }
   },
   "outputs": [
    {
     "data": {
      "application/x-qsharp-data": "\"Success!\"",
      "text/plain": [
       "Success!"
      ]
     },
     "execution_count": 10,
     "metadata": {},
     "output_type": "execute_result"
    }
   ],
   "source": [
    "%kata T42_ReconstructMessageWhenThreeEntangledQubits\n",
    "\n",
    "operation ReconstructMessageWhenThreeEntangledQubits (qCharlie : Qubit, (b1 : Bool, b2 : Bool), b3 : Bool) : Unit {\n",
    "    // here, Alice sends two bits and Bob sends only 1 bit \n",
    "    if(b2!=b3){\n",
    "        X(qCharlie);\n",
    "    }\n",
    "    if(b1 == true){\n",
    "    Z(qCharlie);\n",
    "    }\n",
    "    // perfect!\n",
    "}"
   ]
  },
  {
   "cell_type": "code",
   "execution_count": null,
   "metadata": {},
   "outputs": [],
   "source": []
  }
 ],
 "metadata": {
  "kernelspec": {
   "display_name": "Q#",
   "language": "qsharp",
   "name": "iqsharp"
  },
  "language_info": {
   "file_extension": ".qs",
   "mimetype": "text/x-qsharp",
   "name": "qsharp",
   "version": "0.14"
  }
 },
 "nbformat": 4,
 "nbformat_minor": 2
}
