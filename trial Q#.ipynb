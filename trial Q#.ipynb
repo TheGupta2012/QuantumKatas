{
 "cells": [
  {
   "cell_type": "code",
   "execution_count": null,
   "id": "3fd11a5b",
   "metadata": {
    "ExecuteTime": {
     "start_time": "2021-10-15T16:33:11.014Z"
    }
   },
   "outputs": [
    {
     "data": {
      "application/x-qsharp-data": "[\"RandNum\"]",
      "text/html": [
       "<ul><li>RandNum</li></ul>"
      ],
      "text/plain": [
       "RandNum"
      ]
     },
     "execution_count": 24,
     "metadata": {},
     "output_type": "execute_result"
    }
   ],
   "source": [
    "operation RandNum() : Result {\n",
    "\n",
    "    use q = Qubit();\n",
    "    H(q);\n",
    "    for \n",
    "    let r = M(q);\n",
    "    Message(\"Got a random qubit state!\");\n",
    "    // reset the qubit \n",
    "    Reset(q);\n",
    "    return r;\n",
    "}"
   ]
  },
  {
   "cell_type": "code",
   "execution_count": null,
   "id": "e1bb9a45",
   "metadata": {
    "ExecuteTime": {
     "start_time": "2021-10-15T16:33:11.180Z"
    }
   },
   "outputs": [
    {
     "name": "stdout",
     "output_type": "stream",
     "text": [
      "Got a random qubit state!\r\n"
     ]
    },
    {
     "data": {
      "application/x-qsharp-data": "0",
      "text/plain": [
       "Zero"
      ]
     },
     "execution_count": 25,
     "metadata": {},
     "output_type": "execute_result"
    }
   ],
   "source": [
    "%simulate RandNum"
   ]
  },
  {
   "cell_type": "code",
   "execution_count": null,
   "id": "b5b2f7f6",
   "metadata": {},
   "outputs": [],
   "source": []
  }
 ],
 "metadata": {
  "kernelspec": {
   "display_name": "Q#",
   "language": "qsharp",
   "name": "iqsharp"
  },
  "language_info": {
   "file_extension": ".qs",
   "mimetype": "text/x-qsharp",
   "name": "qsharp",
   "version": "0.14"
  },
  "varInspector": {
   "cols": {
    "lenName": 16,
    "lenType": 16,
    "lenVar": 40
   },
   "kernels_config": {
    "python": {
     "delete_cmd_postfix": "",
     "delete_cmd_prefix": "del ",
     "library": "var_list.py",
     "varRefreshCmd": "print(var_dic_list())"
    },
    "r": {
     "delete_cmd_postfix": ") ",
     "delete_cmd_prefix": "rm(",
     "library": "var_list.r",
     "varRefreshCmd": "cat(var_dic_list()) "
    }
   },
   "types_to_exclude": [
    "module",
    "function",
    "builtin_function_or_method",
    "instance",
    "_Feature"
   ],
   "window_display": false
  }
 },
 "nbformat": 4,
 "nbformat_minor": 5
}
